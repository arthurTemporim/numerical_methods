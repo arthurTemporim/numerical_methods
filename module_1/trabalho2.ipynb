{
 "cells": [
  {
   "cell_type": "code",
   "execution_count": 174,
   "metadata": {},
   "outputs": [],
   "source": [
    "import math\n",
    "import pandas as pd"
   ]
  },
  {
   "cell_type": "code",
   "execution_count": 193,
   "metadata": {},
   "outputs": [],
   "source": [
    "def imprime_tabela_algoritmo(pd, data):\n",
    "    return pd.DataFrame(data, columns=[\"a\",\"b\",\"x\",\"Fa\",\"Fb\",\"Fx\",\"Erro\"])\n",
    "\n",
    "def imprime_tabela_algoritmo2(pd, data):\n",
    "    return pd.DataFrame(data, columns=[\"Xn\",\"f(Xn)\",\"Xn+1\"])\n",
    "    #return pd.DataFrame(data, columns=[\"Xn\",\"f(Xn)\"])"
   ]
  },
  {
   "cell_type": "code",
   "execution_count": 176,
   "metadata": {},
   "outputs": [],
   "source": [
    "def f(n):  \n",
    "    return  math.pow(2,n) + (math.pow(n,2)) - 2 \n",
    "\n",
    "def f_derivada(n):\n",
    "    return (2*n) + (math.pow(2,n) * math.log(2))"
   ]
  },
  {
   "cell_type": "code",
   "execution_count": 177,
   "metadata": {},
   "outputs": [],
   "source": [
    "def bissec(a,b,f):\n",
    "    return (a+b)/2\n",
    "\n",
    "def posicao_falsa(a,b,f):\n",
    "    return ((a * f(b)) - (b * f(a)))/(f(b)-f(a))"
   ]
  },
  {
   "cell_type": "code",
   "execution_count": 204,
   "metadata": {},
   "outputs": [],
   "source": [
    "data = []\n",
    "def  algoritmo(f,  a,  b,  e1,  e2,  k, funcao):\n",
    "    i=0\n",
    "    Fa = f(a)\n",
    "    Fb = f(b)\n",
    "    if (Fa * Fb > 0):\n",
    "        print('nao  existe  raiz  no  intervalo  fornecido')  \n",
    "    while(i in range(k) or (b-a) >= e1):\n",
    "        x = funcao(a,b,f)\n",
    "        if  (abs(f(x)) <= e2):\n",
    "            return  x\n",
    "        Fa = f(a)\n",
    "        Fb = f(b)\n",
    "        Fx = f(x)\n",
    "        E = abs(Fa - Fb)\n",
    "        if(Fa*Fx < 0):\n",
    "            b = x\n",
    "        if(Fb*Fx < 0):  \n",
    "            a = x\n",
    "        i+=1\n",
    "        data.append([a,b,x,Fa,Fb,Fx,E])\n",
    "    return  x"
   ]
  },
  {
   "cell_type": "code",
   "execution_count": 213,
   "metadata": {},
   "outputs": [],
   "source": [
    "data2 = []\n",
    "def newton(f, f_derivada, e, x0):\n",
    "    while(True):\n",
    "        x1 = x0-(f(x0)/f_derivada(x0))\n",
    "        xn1= x0-((f(x1))/f_derivada(x1))\n",
    "        data2.append([x1, f(x1), xn1])\n",
    "        if abs(f(x1)) < e:\n",
    "            return x1\n",
    "        else:\n",
    "            x0 = x1         "
   ]
  },
  {
   "cell_type": "code",
   "execution_count": 214,
   "metadata": {},
   "outputs": [
    {
     "data": {
      "text/plain": [
       "0.6533457073008027"
      ]
     },
     "execution_count": 214,
     "metadata": {},
     "output_type": "execute_result"
    }
   ],
   "source": [
    "#lgoritmo(f,a,b, e1  ,e2  ,k, funcao):\n",
    "algoritmo(f,0.0,1.0,0.05,0.001,6, posicao_falsa)"
   ]
  },
  {
   "cell_type": "code",
   "execution_count": 215,
   "metadata": {},
   "outputs": [
    {
     "data": {
      "text/html": [
       "<div>\n",
       "<style scoped>\n",
       "    .dataframe tbody tr th:only-of-type {\n",
       "        vertical-align: middle;\n",
       "    }\n",
       "\n",
       "    .dataframe tbody tr th {\n",
       "        vertical-align: top;\n",
       "    }\n",
       "\n",
       "    .dataframe thead th {\n",
       "        text-align: right;\n",
       "    }\n",
       "</style>\n",
       "<table border=\"1\" class=\"dataframe\">\n",
       "  <thead>\n",
       "    <tr style=\"text-align: right;\">\n",
       "      <th></th>\n",
       "      <th>a</th>\n",
       "      <th>b</th>\n",
       "      <th>x</th>\n",
       "      <th>Fa</th>\n",
       "      <th>Fb</th>\n",
       "      <th>Fx</th>\n",
       "      <th>Erro</th>\n",
       "    </tr>\n",
       "  </thead>\n",
       "  <tbody>\n",
       "    <tr>\n",
       "      <th>0</th>\n",
       "      <td>0.500000</td>\n",
       "      <td>1.0</td>\n",
       "      <td>0.500000</td>\n",
       "      <td>-1.000000</td>\n",
       "      <td>1.0</td>\n",
       "      <td>-0.335786</td>\n",
       "      <td>2.000000</td>\n",
       "    </tr>\n",
       "    <tr>\n",
       "      <th>1</th>\n",
       "      <td>0.625689</td>\n",
       "      <td>1.0</td>\n",
       "      <td>0.625689</td>\n",
       "      <td>-0.335786</td>\n",
       "      <td>1.0</td>\n",
       "      <td>-0.065567</td>\n",
       "      <td>1.335786</td>\n",
       "    </tr>\n",
       "    <tr>\n",
       "      <th>2</th>\n",
       "      <td>0.648721</td>\n",
       "      <td>1.0</td>\n",
       "      <td>0.648721</td>\n",
       "      <td>-0.065567</td>\n",
       "      <td>1.0</td>\n",
       "      <td>-0.011384</td>\n",
       "      <td>1.065567</td>\n",
       "    </tr>\n",
       "    <tr>\n",
       "      <th>3</th>\n",
       "      <td>0.652675</td>\n",
       "      <td>1.0</td>\n",
       "      <td>0.652675</td>\n",
       "      <td>-0.011384</td>\n",
       "      <td>1.0</td>\n",
       "      <td>-0.001936</td>\n",
       "      <td>1.011384</td>\n",
       "    </tr>\n",
       "    <tr>\n",
       "      <th>4</th>\n",
       "      <td>0.500000</td>\n",
       "      <td>1.0</td>\n",
       "      <td>0.500000</td>\n",
       "      <td>-1.000000</td>\n",
       "      <td>1.0</td>\n",
       "      <td>-0.335786</td>\n",
       "      <td>2.000000</td>\n",
       "    </tr>\n",
       "    <tr>\n",
       "      <th>5</th>\n",
       "      <td>0.625689</td>\n",
       "      <td>1.0</td>\n",
       "      <td>0.625689</td>\n",
       "      <td>-0.335786</td>\n",
       "      <td>1.0</td>\n",
       "      <td>-0.065567</td>\n",
       "      <td>1.335786</td>\n",
       "    </tr>\n",
       "    <tr>\n",
       "      <th>6</th>\n",
       "      <td>0.648721</td>\n",
       "      <td>1.0</td>\n",
       "      <td>0.648721</td>\n",
       "      <td>-0.065567</td>\n",
       "      <td>1.0</td>\n",
       "      <td>-0.011384</td>\n",
       "      <td>1.065567</td>\n",
       "    </tr>\n",
       "    <tr>\n",
       "      <th>7</th>\n",
       "      <td>0.652675</td>\n",
       "      <td>1.0</td>\n",
       "      <td>0.652675</td>\n",
       "      <td>-0.011384</td>\n",
       "      <td>1.0</td>\n",
       "      <td>-0.001936</td>\n",
       "      <td>1.011384</td>\n",
       "    </tr>\n",
       "  </tbody>\n",
       "</table>\n",
       "</div>"
      ],
      "text/plain": [
       "          a    b         x        Fa   Fb        Fx      Erro\n",
       "0  0.500000  1.0  0.500000 -1.000000  1.0 -0.335786  2.000000\n",
       "1  0.625689  1.0  0.625689 -0.335786  1.0 -0.065567  1.335786\n",
       "2  0.648721  1.0  0.648721 -0.065567  1.0 -0.011384  1.065567\n",
       "3  0.652675  1.0  0.652675 -0.011384  1.0 -0.001936  1.011384\n",
       "4  0.500000  1.0  0.500000 -1.000000  1.0 -0.335786  2.000000\n",
       "5  0.625689  1.0  0.625689 -0.335786  1.0 -0.065567  1.335786\n",
       "6  0.648721  1.0  0.648721 -0.065567  1.0 -0.011384  1.065567\n",
       "7  0.652675  1.0  0.652675 -0.011384  1.0 -0.001936  1.011384"
      ]
     },
     "execution_count": 215,
     "metadata": {},
     "output_type": "execute_result"
    }
   ],
   "source": [
    "imprime_tabela_algoritmo(pd, data)"
   ]
  },
  {
   "cell_type": "code",
   "execution_count": 216,
   "metadata": {},
   "outputs": [
    {
     "data": {
      "text/plain": [
       "0.6536971082471515"
      ]
     },
     "execution_count": 216,
     "metadata": {},
     "output_type": "execute_result"
    }
   ],
   "source": [
    "#ewton(f, f_derivada, e, x0):\n",
    "newton(f, f_derivada, 0.02, 0.0)"
   ]
  },
  {
   "cell_type": "code",
   "execution_count": 217,
   "metadata": {},
   "outputs": [
    {
     "data": {
      "text/html": [
       "<div>\n",
       "<style scoped>\n",
       "    .dataframe tbody tr th:only-of-type {\n",
       "        vertical-align: middle;\n",
       "    }\n",
       "\n",
       "    .dataframe tbody tr th {\n",
       "        vertical-align: top;\n",
       "    }\n",
       "\n",
       "    .dataframe thead th {\n",
       "        text-align: right;\n",
       "    }\n",
       "</style>\n",
       "<table border=\"1\" class=\"dataframe\">\n",
       "  <thead>\n",
       "    <tr style=\"text-align: right;\">\n",
       "      <th></th>\n",
       "      <th>Xn</th>\n",
       "      <th>f(Xn)</th>\n",
       "      <th>Xn+1</th>\n",
       "    </tr>\n",
       "  </thead>\n",
       "  <tbody>\n",
       "    <tr>\n",
       "      <th>0</th>\n",
       "      <td>1.442695</td>\n",
       "      <td>2.799651</td>\n",
       "      <td>-0.586983</td>\n",
       "    </tr>\n",
       "    <tr>\n",
       "      <th>1</th>\n",
       "      <td>0.855712</td>\n",
       "      <td>0.541894</td>\n",
       "      <td>1.259979</td>\n",
       "    </tr>\n",
       "    <tr>\n",
       "      <th>2</th>\n",
       "      <td>0.672996</td>\n",
       "      <td>0.047305</td>\n",
       "      <td>0.836413</td>\n",
       "    </tr>\n",
       "    <tr>\n",
       "      <th>3</th>\n",
       "      <td>0.653697</td>\n",
       "      <td>0.000514</td>\n",
       "      <td>0.672782</td>\n",
       "    </tr>\n",
       "  </tbody>\n",
       "</table>\n",
       "</div>"
      ],
      "text/plain": [
       "         Xn     f(Xn)      Xn+1\n",
       "0  1.442695  2.799651 -0.586983\n",
       "1  0.855712  0.541894  1.259979\n",
       "2  0.672996  0.047305  0.836413\n",
       "3  0.653697  0.000514  0.672782"
      ]
     },
     "execution_count": 217,
     "metadata": {},
     "output_type": "execute_result"
    }
   ],
   "source": [
    "imprime_tabela_algoritmo2(pd, data2)"
   ]
  },
  {
   "cell_type": "code",
   "execution_count": null,
   "metadata": {},
   "outputs": [],
   "source": []
  },
  {
   "cell_type": "code",
   "execution_count": null,
   "metadata": {},
   "outputs": [],
   "source": []
  }
 ],
 "metadata": {
  "kernelspec": {
   "display_name": "Python 3",
   "language": "python",
   "name": "python3"
  },
  "language_info": {
   "codemirror_mode": {
    "name": "ipython",
    "version": 3
   },
   "file_extension": ".py",
   "mimetype": "text/x-python",
   "name": "python",
   "nbconvert_exporter": "python",
   "pygments_lexer": "ipython3",
   "version": "3.7.0"
  }
 },
 "nbformat": 4,
 "nbformat_minor": 2
}
