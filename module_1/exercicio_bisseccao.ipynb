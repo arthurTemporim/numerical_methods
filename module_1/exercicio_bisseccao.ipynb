{
 "cells": [
  {
   "cell_type": "code",
   "execution_count": 36,
   "metadata": {},
   "outputs": [],
   "source": [
    "import math\n",
    "import pandas as pd"
   ]
  },
  {
   "cell_type": "code",
   "execution_count": 22,
   "metadata": {},
   "outputs": [],
   "source": [
    "def f(x):\n",
    "    return math.cos(x) * (x**2) - x"
   ]
  },
  {
   "cell_type": "code",
   "execution_count": 23,
   "metadata": {},
   "outputs": [],
   "source": [
    "def  bissec(f,  a,  b,  e1,  e2,  k):\n",
    "    i=0\n",
    "    Fa = f(a)\n",
    "    Fb = f(b)\n",
    "    if (Fa * Fb > 0):\n",
    "        print('nao  existe  raiz  no  intervalo  fornecido')  \n",
    "    while(i in range(k) or (b-a) >= e1):\n",
    "        x = (a+b)/2\n",
    "        if  (abs(f(x)) <= e2):\n",
    "            return  x\n",
    "        Fa = f(a)\n",
    "        Fb = f(b)\n",
    "        Fx = f(x)        \n",
    "        if(Fa*Fx < 0):\n",
    "            b = x\n",
    "        if(Fb*Fx < 0):  \n",
    "            a = x\n",
    "        i+=1        \n",
    "    return  x  "
   ]
  },
  {
   "cell_type": "code",
   "execution_count": 29,
   "metadata": {},
   "outputs": [],
   "source": [
    "def  metodo_posicao_falsa(f,  a,  b,  e1,  e2,  k):\n",
    "    i=0\n",
    "    Fa = f(a)\n",
    "    Fb = f(b)\n",
    "    if (Fa * Fb > 0):\n",
    "        print('nao  existe  raiz  no  intervalo  fornecido')  \n",
    "    while(i in range(k) or (b-a) >= e1):\n",
    "        x = (a*f(b)-b*f(a))/(f(b)-f(a))\n",
    "        if  (abs(f(x)) <= e2):\n",
    "            return  x\n",
    "        Fa = f(a)\n",
    "        Fb = f(b)\n",
    "        Fx = f(x)        \n",
    "        if(Fa*Fx < 0):\n",
    "            b = x\n",
    "        if(Fb*Fx < 0):  \n",
    "            a = x\n",
    "        i+=1        \n",
    "    return  x  "
   ]
  },
  {
   "cell_type": "code",
   "execution_count": 35,
   "metadata": {},
   "outputs": [
    {
     "data": {
      "text/plain": [
       "4.9375"
      ]
     },
     "execution_count": 35,
     "metadata": {},
     "output_type": "execute_result"
    }
   ],
   "source": [
    "bissec(f, 4.0, 5.0, 0.003, 1,40)"
   ]
  },
  {
   "cell_type": "code",
   "execution_count": 33,
   "metadata": {},
   "outputs": [
    {
     "data": {
      "text/plain": [
       "4.91614297651657"
      ]
     },
     "execution_count": 33,
     "metadata": {},
     "output_type": "execute_result"
    }
   ],
   "source": [
    "metodo_posicao_falsa(f, 4.0, 5.0, 0.003, 1, 40)"
   ]
  },
  {
   "cell_type": "code",
   "execution_count": null,
   "metadata": {},
   "outputs": [],
   "source": []
  }
 ],
 "metadata": {
  "kernelspec": {
   "display_name": "Python 3",
   "language": "python",
   "name": "python3"
  },
  "language_info": {
   "codemirror_mode": {
    "name": "ipython",
    "version": 3
   },
   "file_extension": ".py",
   "mimetype": "text/x-python",
   "name": "python",
   "nbconvert_exporter": "python",
   "pygments_lexer": "ipython3",
   "version": "3.7.0"
  }
 },
 "nbformat": 4,
 "nbformat_minor": 2
}
