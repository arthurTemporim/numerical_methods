{
 "cells": [
  {
   "cell_type": "code",
   "execution_count": 54,
   "metadata": {},
   "outputs": [],
   "source": [
    "import numpy as np\n",
    "import math\n",
    "import matplotlib\n",
    "import pandas"
   ]
  },
  {
   "cell_type": "markdown",
   "metadata": {},
   "source": [
    "# PEARSON"
   ]
  },
  {
   "cell_type": "code",
   "execution_count": 256,
   "metadata": {},
   "outputs": [],
   "source": [
    "# Teste\n",
    "x = [-2, -1, 0, 1, 2, 3]\n",
    "y = [-0.8, -0.3, 0, 0.1, 0.2, 0.7]\n",
    "# 2\n",
    "x = [-2, -1, 0, 1, 2, 3]\n",
    "y = [0.6, 0.5, 0.3, 0.1, 0.7, 0.9]\n",
    "# Exemplo\n",
    "# x = [75,44,50,37,28,17]\n",
    "# y = [140,109,97,77,63,56]"
   ]
  },
  {
   "cell_type": "code",
   "execution_count": 257,
   "metadata": {},
   "outputs": [],
   "source": [
    "def pearson(x,y):\n",
    "    media_x = np.mean(x)\n",
    "    media_y = np.mean(y)\n",
    "    x1=[]\n",
    "    for i in x:\n",
    "        x1.append(i-media_x)\n",
    "    x2=[]\n",
    "    for i in x:\n",
    "        x2.append(math.pow(i-media_x, 2))\n",
    "    y1=[]\n",
    "    for i in y:\n",
    "        y1.append(i-media_y)\n",
    "    y2=[]\n",
    "    for i in y:\n",
    "        y2.append(math.pow(i-media_y, 2))\n",
    "    xy=[]\n",
    "    for i in range(len(x)):\n",
    "        xy.append(x1[i]*y1[i])\n",
    "    total=[]\n",
    "    total.append(sum(x))\n",
    "    total.append(sum(y))\n",
    "    total.append(sum(x1))\n",
    "    total.append(sum(x2))\n",
    "    total.append(sum(y1))\n",
    "    total.append(sum(y2))\n",
    "    total.append(sum(xy))\n",
    "    return total"
   ]
  },
  {
   "cell_type": "code",
   "execution_count": 258,
   "metadata": {},
   "outputs": [],
   "source": [
    "def r(x):\n",
    "    return total[6]/math.sqrt(total[3]*total[5])"
   ]
  },
  {
   "cell_type": "code",
   "execution_count": 259,
   "metadata": {},
   "outputs": [
    {
     "name": "stdout",
     "output_type": "stream",
     "text": [
      "[3, 3.1, 0.0, 17.5, -3.3306690738754696e-16, 0.4083333333333334, 0.95]\n"
     ]
    }
   ],
   "source": [
    "total = pearson(x,y)\n",
    "print(total)"
   ]
  },
  {
   "cell_type": "code",
   "execution_count": 260,
   "metadata": {},
   "outputs": [
    {
     "name": "stdout",
     "output_type": "stream",
     "text": [
      "0.35538342124147326\n"
     ]
    }
   ],
   "source": [
    "print(r(x))"
   ]
  },
  {
   "cell_type": "markdown",
   "metadata": {},
   "source": [
    "# LINEAR"
   ]
  },
  {
   "cell_type": "code",
   "execution_count": 80,
   "metadata": {},
   "outputs": [],
   "source": [
    "# Exemplo\n",
    "x = [1,2,3,4]\n",
    "y = [3,5,6,8]"
   ]
  },
  {
   "cell_type": "code",
   "execution_count": 81,
   "metadata": {},
   "outputs": [],
   "source": [
    "def linear(x,y):\n",
    "    x1 = sum(x)\n",
    "    y1 = sum(y)\n",
    "    xy = []\n",
    "    for i in range(len(x)):\n",
    "        xy.append(x[i]*y[i])\n",
    "    x2 = []\n",
    "    for i in range(len(x)):\n",
    "        x2.append(math.pow(x[i],2))\n",
    "    total = []\n",
    "    total.append(x1)\n",
    "    total.append(y1)\n",
    "    total.append(sum(xy))\n",
    "    total.append(sum(x2))\n",
    "    return total"
   ]
  },
  {
   "cell_type": "code",
   "execution_count": 82,
   "metadata": {},
   "outputs": [
    {
     "data": {
      "text/plain": [
       "[10, 22, 63, 30.0]"
      ]
     },
     "execution_count": 82,
     "metadata": {},
     "output_type": "execute_result"
    }
   ],
   "source": [
    "linear(x,y)"
   ]
  },
  {
   "cell_type": "code",
   "execution_count": 83,
   "metadata": {},
   "outputs": [],
   "source": [
    "a = [[4, total[0]], [total[0], total[3]]]\n",
    "b = [total[1], total[2]]\n",
    "x = np.linalg.solve(a, b)"
   ]
  },
  {
   "cell_type": "code",
   "execution_count": 84,
   "metadata": {},
   "outputs": [
    {
     "data": {
      "text/plain": [
       "array([-0.02868852,  0.00491803])"
      ]
     },
     "execution_count": 84,
     "metadata": {},
     "output_type": "execute_result"
    }
   ],
   "source": [
    "x"
   ]
  },
  {
   "cell_type": "markdown",
   "metadata": {},
   "source": [
    "# Erro Linar"
   ]
  },
  {
   "cell_type": "code",
   "execution_count": 209,
   "metadata": {},
   "outputs": [],
   "source": [
    "# Exemplo\n",
    "# x = [75,44,50,37,28,17]\n",
    "# y = [140,109,97,77,63,56]\n",
    "# 2\n",
    "#x = [1,2,3,4]\n",
    "#y = [3,5,6,8]\n",
    "# Teste\n",
    "x = [-2, -1, 0, 1, 2, 3]\n",
    "y = [-0.8, -0.3, 0, 0.1, 0.2, 0.7] \n",
    "# 2\n",
    "# x = [-2, -1, 0, 1, 2, 3]\n",
    "# y = [0.6, 0.5, 0.3, 0.1, 0.7, 0.9] "
   ]
  },
  {
   "cell_type": "code",
   "execution_count": 210,
   "metadata": {},
   "outputs": [],
   "source": [
    "def r(x,a,b):\n",
    "    r = [ ]\n",
    "    for i in range(len(x)):\n",
    "        r.append(b+a*x[i])\n",
    "    return r"
   ]
  },
  {
   "cell_type": "code",
   "execution_count": 211,
   "metadata": {},
   "outputs": [
    {
     "name": "stdout",
     "output_type": "stream",
     "text": [
      "[-0.6666000000000001, -0.4066, -0.1466, 0.1134, 0.3734, 0.6334]\n"
     ]
    }
   ],
   "source": [
    "#Exemplo\n",
    "#r = r(x, 26.89, 1.51)\n",
    "#r = r(x,1.5,1.6)\n",
    "# Teste\n",
    "r = r(x, 0.26, -0.1466)\n",
    "#2\n",
    "#r = r(x, 0.0542, 0.4895)\n",
    "print(r)"
   ]
  },
  {
   "cell_type": "code",
   "execution_count": 212,
   "metadata": {},
   "outputs": [
    {
     "name": "stdout",
     "output_type": "stream",
     "text": [
      "[0.13339999999999996, 0.10660000000000003, 0.1466, 0.013399999999999995, 0.1734, 0.06659999999999999]\n"
     ]
    }
   ],
   "source": [
    "def erro(y, r):\n",
    "    e = []\n",
    "    for i in range(len(y)):\n",
    "        tmp = y[i]-r[i]\n",
    "        if tmp < 0:\n",
    "            e.append(tmp*-1)\n",
    "        else:\n",
    "            e.append(tmp)\n",
    "    return e\n",
    "e = erro(y,r)\n",
    "print(e)"
   ]
  },
  {
   "cell_type": "code",
   "execution_count": 213,
   "metadata": {},
   "outputs": [
    {
     "data": {
      "text/plain": [
       "0.64"
      ]
     },
     "execution_count": 213,
     "metadata": {},
     "output_type": "execute_result"
    }
   ],
   "source": [
    "soma=0\n",
    "for i in e:\n",
    "    soma = soma+i\n",
    "soma"
   ]
  },
  {
   "cell_type": "markdown",
   "metadata": {},
   "source": [
    "# Erro Polinomial"
   ]
  },
  {
   "cell_type": "code",
   "execution_count": 261,
   "metadata": {},
   "outputs": [],
   "source": [
    "# Teste\n",
    "# x = [-2, -1, 0, 1, 2, 3]\n",
    "# y = [-0.8, -0.3, 0, 0.1, 0.2, 0.7] \n",
    "# 2\n",
    "x = [-2, -1, 0, 1, 2, 3]\n",
    "y = [0.6, 0.5, 0.3, 0.1, 0.7, 0.9] "
   ]
  },
  {
   "cell_type": "code",
   "execution_count": 262,
   "metadata": {},
   "outputs": [],
   "source": [
    "def r(x,a,b,c):\n",
    "    r = [ ]\n",
    "    for i in range(len(x)):\n",
    "        r.append(a*math.pow(x[i],2)+b*x[i]+c)\n",
    "    return r"
   ]
  },
  {
   "cell_type": "code",
   "execution_count": 263,
   "metadata": {},
   "outputs": [
    {
     "name": "stdout",
     "output_type": "stream",
     "text": [
      "[0.6605000000000001, 0.3792, 0.2657, 0.32, 0.5421, 0.9319999999999999]\n"
     ]
    }
   ],
   "source": [
    "# Teste\n",
    "#r = r(x, -0.0142, 0.2742, -0.1085)\n",
    "#2\n",
    "r = r(x, 0.0839, -0.0296, 0.2657)\n",
    "\n",
    "print(r)"
   ]
  },
  {
   "cell_type": "code",
   "execution_count": 264,
   "metadata": {},
   "outputs": [
    {
     "name": "stdout",
     "output_type": "stream",
     "text": [
      "[0.06050000000000011, 0.12080000000000002, 0.0343, 0.22, 0.15789999999999993, 0.03199999999999992]\n"
     ]
    }
   ],
   "source": [
    "def erro(y, r):\n",
    "    e = []\n",
    "    for i in range(len(y)):\n",
    "        tmp = y[i]-r[i]\n",
    "        if tmp < 0:\n",
    "            e.append(tmp*-1)\n",
    "        else:\n",
    "            e.append(tmp)\n",
    "    return e\n",
    "e = erro(y,r)\n",
    "print(e)"
   ]
  },
  {
   "cell_type": "code",
   "execution_count": 265,
   "metadata": {},
   "outputs": [
    {
     "data": {
      "text/plain": [
       "0.6255"
      ]
     },
     "execution_count": 265,
     "metadata": {},
     "output_type": "execute_result"
    }
   ],
   "source": [
    "soma=0\n",
    "for i in e:\n",
    "    soma = soma+i\n",
    "soma"
   ]
  }
 ],
 "metadata": {
  "kernelspec": {
   "display_name": "Python 3",
   "language": "python",
   "name": "python3"
  },
  "language_info": {
   "codemirror_mode": {
    "name": "ipython",
    "version": 3
   },
   "file_extension": ".py",
   "mimetype": "text/x-python",
   "name": "python",
   "nbconvert_exporter": "python",
   "pygments_lexer": "ipython3",
   "version": "3.7.1"
  }
 },
 "nbformat": 4,
 "nbformat_minor": 2
}
