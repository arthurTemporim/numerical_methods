{
 "cells": [
  {
   "cell_type": "code",
   "execution_count": 1,
   "metadata": {},
   "outputs": [],
   "source": [
    "import pandas as pd"
   ]
  },
  {
   "cell_type": "code",
   "execution_count": 2,
   "metadata": {},
   "outputs": [],
   "source": [
    "def print_table(pd, data):\n",
    "    return pd.DataFrame(data)"
   ]
  },
  {
   "cell_type": "code",
   "execution_count": 3,
   "metadata": {},
   "outputs": [],
   "source": [
    "# Eliminação de Gauss com pivoteamento\n",
    "# https://stackoverflow.com/questions/31957096/gaussian-elimination-with-pivoting-in-python\n",
    "def linearsolver(A,b):\n",
    "  n = len(A)\n",
    "  M = A\n",
    "\n",
    "  i = 0\n",
    "  for x in M:\n",
    "   x.append(b[i])\n",
    "   i += 1\n",
    "\n",
    "  for k in range(n):\n",
    "   for i in range(k,n):\n",
    "     if abs(M[i][k]) > abs(M[k][k]):\n",
    "        M[k], M[i] = M[i],M[k]\n",
    "     else:\n",
    "        pass\n",
    "\n",
    "   print(pd.DataFrame(M, columns=[\"a1\",\"a2\",\"a3\",\"b\"]))\n",
    "     \n",
    "   for j in range(k+1,n):\n",
    "       q = float(M[j][k]) / M[k][k]\n",
    "       for m in range(k, n+1):\n",
    "          M[j][m] -=  q * M[k][m]\n",
    "\n",
    "  #print(pd.DataFrame(M, columns=[\"a1\",\"a2\",\"a3\",\"b\"]))\n",
    "\n",
    "  x = [0 for i in range(n)]\n",
    "\n",
    "  x[n-1] =float(M[n-1][n])/M[n-1][n-1]\n",
    "  for i in range (n-1,-1,-1):\n",
    "    z = 0\n",
    "    for j in range(i+1,n):\n",
    "        z = z  + float(M[i][j])*x[j]\n",
    "    x[i] = float(M[i][n] - z)/M[i][i]    \n",
    "    \n",
    "  print('x: %.4f'%x[0])\n",
    "  print('y: %.4f'%x[1])\n",
    "  print('z: %.4f'%x[2])"
   ]
  },
  {
   "cell_type": "code",
   "execution_count": 4,
   "metadata": {},
   "outputs": [
    {
     "name": "stdout",
     "output_type": "stream",
     "text": [
      "   a1  a2  a3  b\n",
      "0   4   3  -2  3\n",
      "1   1   1   2  2\n",
      "2   3   2   4  1\n",
      "    a1    a2   a3     b\n",
      "0  4.0  3.00 -2.0  3.00\n",
      "1  0.0  0.25  2.5  1.25\n",
      "2  0.0 -0.25  5.5 -1.25\n",
      "    a1    a2   a3     b\n",
      "0  4.0  3.00 -2.0  3.00\n",
      "1  0.0  0.25  2.5  1.25\n",
      "2  0.0  0.00  8.0  0.00\n",
      "x: -3.0000\n",
      "y: 5.0000\n",
      "z: 0.0000\n"
     ]
    }
   ],
   "source": [
    "# EXEMPLE\n",
    "A = [[3, 2, 4], [1, 1, 2], [4, 3, -2]]\n",
    "b = [1, 2, 3]\n",
    "linearsolver(A, b)"
   ]
  },
  {
   "cell_type": "code",
   "execution_count": 5,
   "metadata": {},
   "outputs": [
    {
     "name": "stdout",
     "output_type": "stream",
     "text": [
      "   a1  a2  a3  b\n",
      "0   2   1  -1  1\n",
      "1   1  -1   2  2\n",
      "2  -2  -5   3  3\n",
      "    a1   a2   a3    b\n",
      "0  2.0  1.0 -1.0  1.0\n",
      "1  0.0 -4.0  2.0  4.0\n",
      "2  0.0 -1.5  2.5  1.5\n",
      "    a1   a2    a3    b\n",
      "0  2.0  1.0 -1.00  1.0\n",
      "1  0.0 -4.0  2.00  4.0\n",
      "2  0.0  0.0  1.75  0.0\n",
      "x: 1.0000\n",
      "y: -1.0000\n",
      "z: 0.0000\n"
     ]
    }
   ],
   "source": [
    "# EXEMPLE\n",
    "A = [[1, -1, 2], [2, 1, -1], [-2, -5, 3]]\n",
    "b = [2, 1, 3]\n",
    "linearsolver(A, b)"
   ]
  },
  {
   "cell_type": "code",
   "execution_count": 6,
   "metadata": {},
   "outputs": [
    {
     "name": "stdout",
     "output_type": "stream",
     "text": [
      "   a1  a2  a3  b\n",
      "0   8   2   1  1\n",
      "1   1   5  -2  2\n",
      "2   2  -1   6  1\n",
      "    a1    a2     a3      b\n",
      "0  8.0  2.00  1.000  1.000\n",
      "1  0.0  4.75 -2.125  1.875\n",
      "2  0.0 -1.50  5.750  0.750\n",
      "    a1    a2        a3         b\n",
      "0  8.0  2.00  1.000000  1.000000\n",
      "1  0.0  4.75 -2.125000  1.875000\n",
      "2  0.0  0.00  5.078947  1.342105\n",
      "x: -0.0363\n",
      "y: 0.5130\n",
      "z: 0.2642\n"
     ]
    }
   ],
   "source": [
    "A = [[8, 2, 1], [1, 5, -2], [2, -1, 6]]\n",
    "b = [1, 2, 1]\n",
    "linearsolver(A, b)"
   ]
  }
 ],
 "metadata": {
  "kernelspec": {
   "display_name": "Python 3",
   "language": "python",
   "name": "python3"
  },
  "language_info": {
   "codemirror_mode": {
    "name": "ipython",
    "version": 3
   },
   "file_extension": ".py",
   "mimetype": "text/x-python",
   "name": "python",
   "nbconvert_exporter": "python",
   "pygments_lexer": "ipython3",
   "version": "3.7.0"
  }
 },
 "nbformat": 4,
 "nbformat_minor": 2
}
