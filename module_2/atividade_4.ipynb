{
 "cells": [
  {
   "cell_type": "code",
   "execution_count": 239,
   "metadata": {},
   "outputs": [],
   "source": [
    "import numpy as np\n",
    "import math\n",
    "import matplotlib"
   ]
  },
  {
   "cell_type": "markdown",
   "metadata": {},
   "source": [
    "# PEARSON"
   ]
  },
  {
   "cell_type": "code",
   "execution_count": 165,
   "metadata": {},
   "outputs": [],
   "source": [
    "x = [-2, -1, 0, 1, 2, 3]\n",
    "y = [0.6, 0.5, 0.3, 0.1, 0.7, 0.9]"
   ]
  },
  {
   "cell_type": "code",
   "execution_count": 166,
   "metadata": {
    "collapsed": true
   },
   "outputs": [],
   "source": [
    "def pearson(x,y):\n",
    "    media_x = np.mean(x)\n",
    "    media_y = np.mean(y)\n",
    "    x1=[]\n",
    "    for i in x:\n",
    "        x1.append(i-media_x)\n",
    "        x2=[]\n",
    "for i in x:\n",
    "    x2.append(math.pow(i-media_x, 2))"
   ]
  },
  {
   "cell_type": "code",
   "execution_count": 168,
   "metadata": {},
   "outputs": [],
   "source": []
  },
  {
   "cell_type": "code",
   "execution_count": 169,
   "metadata": {},
   "outputs": [],
   "source": [
    "y1=[]\n",
    "for i in y:\n",
    "    y1.append(i-media_y)"
   ]
  },
  {
   "cell_type": "code",
   "execution_count": 170,
   "metadata": {},
   "outputs": [],
   "source": [
    "y2=[]\n",
    "for i in y:\n",
    "    y2.append(math.pow(i-media_y, 2))"
   ]
  },
  {
   "cell_type": "code",
   "execution_count": 171,
   "metadata": {},
   "outputs": [],
   "source": [
    "xy=[]\n",
    "for i in range(len(x)):\n",
    "    xy.append(x1[i]*y1[i])"
   ]
  },
  {
   "cell_type": "code",
   "execution_count": 172,
   "metadata": {},
   "outputs": [],
   "source": [
    "total=[]\n",
    "total.append(sum(x))\n",
    "total.append(sum(y))\n",
    "total.append(sum(x1))\n",
    "total.append(sum(x2))\n",
    "total.append(sum(y1))\n",
    "total.append(sum(y2))\n",
    "total.append(sum(xy))"
   ]
  },
  {
   "cell_type": "code",
   "execution_count": 173,
   "metadata": {},
   "outputs": [
    {
     "data": {
      "text/plain": [
       "[3, 3.1, 0.0, 17.5, -3.3306690738754696e-16, 0.4083333333333334, 0.95]"
      ]
     },
     "execution_count": 173,
     "metadata": {},
     "output_type": "execute_result"
    }
   ],
   "source": [
    "total"
   ]
  },
  {
   "cell_type": "code",
   "execution_count": 241,
   "metadata": {},
   "outputs": [],
   "source": [
    "r = total[6]/math.sqrt(total[3]*total[5])"
   ]
  },
  {
   "cell_type": "code",
   "execution_count": 244,
   "metadata": {},
   "outputs": [
    {
     "data": {
      "text/plain": [
       "0.35538342124147326"
      ]
     },
     "execution_count": 244,
     "metadata": {},
     "output_type": "execute_result"
    }
   ],
   "source": [
    "r"
   ]
  },
  {
   "cell_type": "code",
   "execution_count": null,
   "metadata": {},
   "outputs": [],
   "source": [
    "matplotlib.pl"
   ]
  },
  {
   "cell_type": "markdown",
   "metadata": {},
   "source": [
    "# LINEAR"
   ]
  },
  {
   "cell_type": "code",
   "execution_count": 245,
   "metadata": {},
   "outputs": [],
   "source": [
    "#x = [1,2,3,4]\n",
    "#y = [3,5,6,8]\n",
    "x = [-2, -1, 0, 1, 2, 3]\n",
    "y = [0.6, 0.5, 0.3, 0.1, 0.7, 0.9]"
   ]
  },
  {
   "cell_type": "code",
   "execution_count": 246,
   "metadata": {},
   "outputs": [],
   "source": [
    "def linear(x,y):\n",
    "    x1 = sum(x)\n",
    "    y1 = sum(y)\n",
    "    xy = []\n",
    "    for i in range(len(x)):\n",
    "        xy.append(x[i]*y[i])\n",
    "    x2 = []\n",
    "    for i in range(len(x)):\n",
    "        x2.append(math.pow(x[i],2))\n",
    "    total = []\n",
    "    total.append(x1)\n",
    "    total.append(y1)\n",
    "    total.append(sum(xy))\n",
    "    total.append(sum(x2))\n",
    "    return total"
   ]
  },
  {
   "cell_type": "code",
   "execution_count": 247,
   "metadata": {},
   "outputs": [
    {
     "data": {
      "text/plain": [
       "[3, 3.1, 2.5, 19.0]"
      ]
     },
     "execution_count": 247,
     "metadata": {},
     "output_type": "execute_result"
    }
   ],
   "source": [
    "linear(x,y)"
   ]
  },
  {
   "cell_type": "code",
   "execution_count": 248,
   "metadata": {},
   "outputs": [],
   "source": [
    "a = [[4, total[0]], [total[0], total[3]]]\n",
    "b = [total[1], total[2]]\n",
    "x = np.linalg.solve(a, b)"
   ]
  },
  {
   "cell_type": "code",
   "execution_count": 249,
   "metadata": {},
   "outputs": [
    {
     "data": {
      "text/plain": [
       "array([ 0.88934426, -0.15245902])"
      ]
     },
     "execution_count": 249,
     "metadata": {},
     "output_type": "execute_result"
    }
   ],
   "source": [
    "x"
   ]
  },
  {
   "cell_type": "markdown",
   "metadata": {},
   "source": [
    "# ERRO POLINOMIAL"
   ]
  },
  {
   "cell_type": "code",
   "execution_count": 250,
   "metadata": {},
   "outputs": [],
   "source": [
    "x = np.matrix((75,44,50,37,28,17))\n",
    "y = np.matrix((140,109,97,77,63,56))\n",
    "r = np.matrix((140.14, 93.33, 102.39, 82.76,69.17, 52.56))"
   ]
  },
  {
   "cell_type": "code",
   "execution_count": 251,
   "metadata": {},
   "outputs": [
    {
     "name": "stdout",
     "output_type": "stream",
     "text": [
      "[[-0.14 15.67 -5.39 -5.76 -6.17  3.44]]\n"
     ]
    }
   ],
   "source": [
    "print(y-r)"
   ]
  },
  {
   "cell_type": "code",
   "execution_count": 252,
   "metadata": {},
   "outputs": [],
   "source": [
    "def r(x):\n",
    "    r = [ ]\n",
    "    for i in range(len(x)):\n",
    "        r.append(1.5+1.6*x[i])\n",
    "    return r"
   ]
  },
  {
   "cell_type": "code",
   "execution_count": 253,
   "metadata": {},
   "outputs": [
    {
     "data": {
      "text/plain": [
       "[matrix([[121.5,  71.9,  81.5,  60.7,  46.3,  28.7]])]"
      ]
     },
     "execution_count": 253,
     "metadata": {},
     "output_type": "execute_result"
    }
   ],
   "source": [
    "r(x)"
   ]
  },
  {
   "cell_type": "code",
   "execution_count": null,
   "metadata": {},
   "outputs": [],
   "source": []
  }
 ],
 "metadata": {
  "kernelspec": {
   "display_name": "Python 3",
   "language": "python",
   "name": "python3"
  },
  "language_info": {
   "codemirror_mode": {
    "name": "ipython",
    "version": 3
   },
   "file_extension": ".py",
   "mimetype": "text/x-python",
   "name": "python",
   "nbconvert_exporter": "python",
   "pygments_lexer": "ipython3",
   "version": "3.6.6"
  }
 },
 "nbformat": 4,
 "nbformat_minor": 2
}
