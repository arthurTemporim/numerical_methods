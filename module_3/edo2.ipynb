{
 "cells": [
  {
   "cell_type": "code",
   "execution_count": 1,
   "metadata": {},
   "outputs": [],
   "source": [
    "from math import sqrt"
   ]
  },
  {
   "cell_type": "code",
   "execution_count": 2,
   "metadata": {},
   "outputs": [],
   "source": [
    "def decimal(value, n=6):\n",
    "    tmp=\"0:.{}f\".format(n)\n",
    "    tmp = '{'+tmp+'}'\n",
    "    return float(tmp.format(value))"
   ]
  },
  {
   "cell_type": "markdown",
   "metadata": {},
   "source": [
    "# EDO2"
   ]
  },
  {
   "cell_type": "markdown",
   "metadata": {},
   "source": [
    "## 2nd Order Runge-Kutta Method"
   ]
  },
  {
   "cell_type": "markdown",
   "metadata": {},
   "source": [
    "[References](https://rosettacode.org/wiki/Runge-Kutta_method#Python)"
   ]
  },
  {
   "cell_type": "markdown",
   "metadata": {},
   "source": [
    "### Exemples:"
   ]
  },
  {
   "cell_type": "markdown",
   "metadata": {},
   "source": [
    "#### Alternative solution"
   ]
  },
  {
   "cell_type": "code",
   "execution_count": 3,
   "metadata": {},
   "outputs": [
    {
     "name": "stdout",
     "output_type": "stream",
     "text": [
      " 0.0    1.00000  +0.0000e+00\n",
      " 1.0    1.56250  -1.4572e-07\n",
      " 2.0    4.00000  -9.1948e-07\n",
      " 3.0   10.56250  -2.9096e-06\n",
      " 4.0   24.99999  -6.2349e-06\n",
      " 5.0   52.56249  -1.0820e-05\n",
      " 6.0   99.99998  -1.6595e-05\n",
      " 7.0  175.56248  -2.3518e-05\n",
      " 8.0  288.99997  -3.1565e-05\n",
      " 9.0  451.56246  -4.0723e-05\n",
      "10.0  675.99995  -5.0983e-05\n"
     ]
    }
   ],
   "source": [
    "def rk4(f, x0, y0, x1, n):\n",
    "    vx = [0] * (n + 1)\n",
    "    vy = [0] * (n + 1)\n",
    "    h = (x1 - x0) / float(n)\n",
    "    vx[0] = x = x0\n",
    "    vy[0] = y = y0\n",
    "    for i in range(1, n + 1):\n",
    "        k1 = h * f(x, y)\n",
    "        k2 = h * f(x + 0.5 * h, y + 0.5 * k1)\n",
    "        k3 = h * f(x + 0.5 * h, y + 0.5 * k2)\n",
    "        k4 = h * f(x + h, y + k3)\n",
    "        vx[i] = x = x0 + i * h\n",
    "        vy[i] = y = y + (k1 + k2 + k2 + k3 + k3 + k4) / 6\n",
    "    return vx, vy\n",
    " \n",
    "def f(x, y):\n",
    "    return x * sqrt(y)\n",
    " \n",
    "vx, vy = rk4(f, 0, 1, 10, 100)\n",
    "for x, y in list(zip(vx, vy))[::10]:\n",
    "    print(\"%4.1f %10.5f %+12.4e\" % (x, y, y - (4 + x * x)**2 / 16))"
   ]
  },
  {
   "cell_type": "markdown",
   "metadata": {},
   "source": [
    "#### Using lambda"
   ]
  },
  {
   "cell_type": "code",
   "execution_count": 4,
   "metadata": {},
   "outputs": [
    {
     "name": "stdout",
     "output_type": "stream",
     "text": [
      "y(0.0)\t= 1.000000 \t error:    0\n",
      "y(1.0)\t= 1.562500 \t error: 1.45722e-07\n",
      "y(2.0)\t= 3.999999 \t error: 9.19479e-07\n",
      "y(3.0)\t= 10.562497 \t error: 2.90956e-06\n",
      "y(4.0)\t= 24.999994 \t error: 6.23491e-06\n",
      "y(5.0)\t= 52.562489 \t error: 1.08197e-05\n",
      "y(6.0)\t= 99.999983 \t error: 1.65946e-05\n",
      "y(7.0)\t= 175.562476 \t error: 2.35177e-05\n",
      "y(8.0)\t= 288.999968 \t error: 3.15652e-05\n",
      "y(9.0)\t= 451.562459 \t error: 4.07232e-05\n",
      "y(10.0)\t= 675.999949 \t error: 5.09833e-05\n"
     ]
    }
   ],
   "source": [
    "def RK4(f):\n",
    "    return lambda t, y, dt: (\n",
    "            lambda dy1: (\n",
    "            lambda dy2: (\n",
    "            lambda dy3: (\n",
    "            lambda dy4: (dy1 + 2*dy2 + 2*dy3 + dy4)/6\n",
    "            )( dt * f( t + dt  , y + dy3   ) )\n",
    "    )( dt * f( t + dt/2, y + dy2/2 ) )\n",
    "    )( dt * f( t + dt/2, y + dy1/2 ) )\n",
    "    )( dt * f( t       , y         ) )\n",
    " \n",
    "def theory(t): return (t**2 + 4)**2 /16\n",
    " \n",
    "from math import sqrt\n",
    "dy = RK4(lambda t, y: t*sqrt(y))\n",
    " \n",
    "t, y, dt = 0., 1., .1\n",
    "while t <= 10:\n",
    "    if abs(round(t) - t) < 1e-5:\n",
    "        print(\"y(%2.1f)\\t= %4.6f \\t error: %4.6g\" % ( t, y, abs(y - theory(t))))\n",
    "    t, y = t + dt, y + dy( t, y, dt )"
   ]
  },
  {
   "cell_type": "code",
   "execution_count": 5,
   "metadata": {},
   "outputs": [],
   "source": [
    "def rk4(f, x0, y0, h, n):\n",
    "    vx = [0] * (n + 1)\n",
    "    vy = [0] * (n + 1)\n",
    "    vx[0] = x = x0\n",
    "    vy[0] = y = y0\n",
    "    for i in range(1, n + 1):\n",
    "        k1 = h * f(x, y)\n",
    "        k2 = h * f(x + 0.5 * h, y + 0.5 * k1)\n",
    "        k3 = h * f(x + 0.5 * h, y + 0.5 * k2)\n",
    "        k4 = h * f(x + h, y + k3)\n",
    "        vx[i] = x = x0 + i * h\n",
    "        vy[i] = y = y + (k1 + k2 + k2 + k3 + k3 + k4) / 6\n",
    "    return vx, vy\n"
   ]
  },
  {
   "cell_type": "markdown",
   "metadata": {},
   "source": [
    "### Slides examples"
   ]
  },
  {
   "cell_type": "code",
   "execution_count": 49,
   "metadata": {},
   "outputs": [],
   "source": [
    "def rk2(f, x0, y0, h, n):\n",
    "    vx = [0] * (n + 1)\n",
    "    vy = [0] * (n + 1)\n",
    "    vx[0] = x = x0\n",
    "    vy[0] = y = y0\n",
    "    for i in range(1, n + 1):\n",
    "        k1 = decimal(f(x, y))\n",
    "        k2 = decimal(f(x + h, y + h * k1))\n",
    "        print('k1:',k1,'k2:',k2)\n",
    "        print('',y,'+',h/2,'*','(',k1,'+',k2,')',end='')\n",
    "        vx[i] = x = decimal(x0 + i * h)\n",
    "        vy[i] = y = decimal(y + h/2 * (k1 + k2))\n",
    "        print(' =',vy[i])\n",
    "    return vx, vy"
   ]
  },
  {
   "cell_type": "code",
   "execution_count": 50,
   "metadata": {},
   "outputs": [
    {
     "name": "stdout",
     "output_type": "stream",
     "text": [
      "k1: 1.0 k2: 1.5\n",
      " 1 + 0.25 * ( 1.0 + 1.5 ) = 1.625\n",
      "k1: 1.625 k2: 2.4375\n",
      " 1.625 + 0.25 * ( 1.625 + 2.4375 ) = 2.640625\n",
      "0.00    1.00000\n",
      "0.50    1.62500\n",
      "1.00    2.64062\n"
     ]
    }
   ],
   "source": [
    "def f(x, y):\n",
    "    return y\n",
    " \n",
    "vx, vy = rk2(f, 0, 1, 0.5, 2)\n",
    "for x, y in list(zip(vx, vy))[::1]:\n",
    "    print(\"%4.2f %10.5f\" % (x, y))"
   ]
  },
  {
   "cell_type": "code",
   "execution_count": 52,
   "metadata": {},
   "outputs": [
    {
     "name": "stdout",
     "output_type": "stream",
     "text": [
      "k1: 0.0 k2: 0.1\n",
      " 2 + 0.05 * ( 0.0 + 0.1 ) = 2.005\n",
      "k1: 0.095 k2: 0.1855\n",
      " 2.005 + 0.05 * ( 0.095 + 0.1855 ) = 2.019025\n",
      "k1: 0.180975 k2: 0.262877\n",
      " 2.019025 + 0.05 * ( 0.180975 + 0.262877 ) = 2.041218\n",
      "0.00   2.000000\n",
      "0.10   2.005000\n",
      "0.20   2.019025\n",
      "0.30   2.041218\n"
     ]
    }
   ],
   "source": [
    "def f(x, y):\n",
    "    return 2+x-y\n",
    " \n",
    "vx, vy = rk2(f, 0, 2, 0.1, 3)\n",
    "for x, y in list(zip(vx, vy))[::1]:\n",
    "    print(\"%4.2f %10.6f\" % (x, y))"
   ]
  },
  {
   "cell_type": "code",
   "execution_count": 53,
   "metadata": {},
   "outputs": [
    {
     "name": "stdout",
     "output_type": "stream",
     "text": [
      "k1: -1.0 k2: -2.0\n",
      " 1 + 0.25 * ( -1.0 + -2.0 ) = 0.25\n",
      "k1: -2.25 k2: -3.875\n",
      " 0.25 + 0.25 * ( -2.25 + -3.875 ) = -1.28125\n",
      "0.00    1.00000\n",
      "0.50    0.25000\n",
      "1.00   -1.28125\n"
     ]
    }
   ],
   "source": [
    "def f(x, y):\n",
    "    return y-2-x\n",
    " \n",
    "vx, vy = rk2(f, 0, 1, 0.5, 2)\n",
    "for x, y in list(zip(vx, vy))[::1]:\n",
    "    print(\"%4.2f %10.5f\" % (x, y))"
   ]
  },
  {
   "cell_type": "markdown",
   "metadata": {},
   "source": [
    "## Class test"
   ]
  },
  {
   "cell_type": "code",
   "execution_count": 54,
   "metadata": {},
   "outputs": [
    {
     "name": "stdout",
     "output_type": "stream",
     "text": [
      "k1: 2.0 k2: 2.0\n",
      " 1 + 0.125 * ( 2.0 + 2.0 ) = 1.5\n",
      "k1: 2.0 k2: 2.0\n",
      " 1.5 + 0.125 * ( 2.0 + 2.0 ) = 2.0\n",
      "k1: 2.0 k2: 2.0\n",
      " 2.0 + 0.125 * ( 2.0 + 2.0 ) = 2.5\n",
      "k1: 2.0 k2: 2.0\n",
      " 2.5 + 0.125 * ( 2.0 + 2.0 ) = 3.0\n",
      "0.00    1.00000\n",
      "0.25    1.50000\n",
      "0.50    2.00000\n",
      "0.75    2.50000\n",
      "1.00    3.00000\n"
     ]
    }
   ],
   "source": [
    "def f(x, y):\n",
    "    return 2*x-y+3\n",
    " \n",
    "vx, vy = rk2(f, 0, 1, 0.25, 4)\n",
    "for x, y in list(zip(vx, vy))[::1]:\n",
    "    print(\"%4.2f %10.5f\" % (x, y))"
   ]
  },
  {
   "cell_type": "code",
   "execution_count": 55,
   "metadata": {},
   "outputs": [
    {
     "name": "stdout",
     "output_type": "stream",
     "text": [
      "k1: 5.0 k2: 5.0\n",
      " 1 + 0.125 * ( 5.0 + 5.0 ) = 2.25\n",
      "k1: 5.0 k2: 5.0\n",
      " 2.25 + 0.125 * ( 5.0 + 5.0 ) = 3.5\n",
      "k1: 5.0 k2: 5.0\n",
      " 3.5 + 0.125 * ( 5.0 + 5.0 ) = 4.75\n",
      "k1: 5.0 k2: 5.0\n",
      " 4.75 + 0.125 * ( 5.0 + 5.0 ) = 6.0\n",
      "0.00    1.00000\n",
      "0.25    2.25000\n",
      "0.50    3.50000\n",
      "0.75    4.75000\n",
      "1.00    6.00000\n"
     ]
    }
   ],
   "source": [
    "def f(x, y):\n",
    "    return 5*x-y+6\n",
    " \n",
    "vx, vy = rk2(f, 0, 1, 0.25, 4)\n",
    "for x, y in list(zip(vx, vy))[::1]:\n",
    "    print(\"%4.2f %10.5f\" % (x, y))"
   ]
  },
  {
   "cell_type": "code",
   "execution_count": null,
   "metadata": {},
   "outputs": [],
   "source": []
  }
 ],
 "metadata": {
  "kernelspec": {
   "display_name": "Python 3",
   "language": "python",
   "name": "python3"
  },
  "language_info": {
   "codemirror_mode": {
    "name": "ipython",
    "version": 3
   },
   "file_extension": ".py",
   "mimetype": "text/x-python",
   "name": "python",
   "nbconvert_exporter": "python",
   "pygments_lexer": "ipython3",
   "version": "3.6.6"
  }
 },
 "nbformat": 4,
 "nbformat_minor": 2
}
