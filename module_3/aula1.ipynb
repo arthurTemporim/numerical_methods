{
 "cells": [
  {
   "cell_type": "code",
   "execution_count": 1,
   "metadata": {},
   "outputs": [],
   "source": [
    "import numpy as np\n",
    "import math\n",
    "import matplotlib\n",
    "import pandas\n",
    "import scipy as sp"
   ]
  },
  {
   "cell_type": "markdown",
   "metadata": {},
   "source": [
    "# Integração Numérica"
   ]
  },
  {
   "cell_type": "markdown",
   "metadata": {},
   "source": [
    "# Funções Extras"
   ]
  },
  {
   "cell_type": "code",
   "execution_count": 2,
   "metadata": {},
   "outputs": [],
   "source": [
    "def vazio(value):\n",
    "    return value"
   ]
  },
  {
   "cell_type": "code",
   "execution_count": 3,
   "metadata": {},
   "outputs": [],
   "source": [
    "def f_tabela(x):\n",
    "    table = {0:1.5,1:2.5,2:3.5,3:4.5,4:5.5}\n",
    "    #table = {1:1.8816,2:1.5318,3:1.4452}\n",
    "    #table = {0:0,0.5:1,1:2,1.5:3,2:4}\n",
    "    return table[x]"
   ]
  },
  {
   "cell_type": "markdown",
   "metadata": {},
   "source": [
    "# Regra dos trapézios"
   ]
  },
  {
   "cell_type": "code",
   "execution_count": 4,
   "metadata": {},
   "outputs": [],
   "source": [
    "def trapezio(tabela, f=vazio):\n",
    "    x = list(tabela.keys())\n",
    "    altura=(x[-1]-x[0])/(len(x)-1)\n",
    "    tmp=0\n",
    "    for i in range(1,len(x)-1):\n",
    "        tmp += tabela[x[i]]\n",
    "    tmp = 2 * tmp\n",
    "    print((altura/2),'*','[',tabela[x[0]],'+',tmp,'+',tabela[x[-1]],']')\n",
    "    tmp += tabela[x[0]]\n",
    "    tmp += tabela[x[-1]]\n",
    "    resultado = (altura/2)*tmp\n",
    "    return resultado"
   ]
  },
  {
   "cell_type": "code",
   "execution_count": 10,
   "metadata": {
    "scrolled": true
   },
   "outputs": [
    {
     "name": "stdout",
     "output_type": "stream",
     "text": [
      "0.5 * [ 1.5 + 21.0 + 5.5 ]\n"
     ]
    },
    {
     "data": {
      "text/plain": [
       "14.0"
      ]
     },
     "execution_count": 10,
     "metadata": {},
     "output_type": "execute_result"
    }
   ],
   "source": [
    "# teste\n",
    "tabela = {0:1.5,1:2.5,2:3.5,3:4.5,4:5.5}\n",
    "# Regra dos trapézios\n",
    "#tabela = {1:1.8816,1.5:1.5401,2:1.5318,2.5:1.9996,3:1.4452}\n",
    "trapezio(tabela,f_tabela)"
   ]
  },
  {
   "cell_type": "markdown",
   "metadata": {},
   "source": [
    "# 1/3 Simpson simples"
   ]
  },
  {
   "cell_type": "code",
   "execution_count": 6,
   "metadata": {},
   "outputs": [],
   "source": [
    "def simpson13(a, c, b, f=vazio, tabela):\n",
    "    altura = (b-a)/2\n",
    "    print(\"f(a): \", f(a))\n",
    "    print(\"f(b): \", f(b))\n",
    "    print(\"f(c): \", 4*f(c))\n",
    "    print((f(a)+(4*f(c))+f(b)))\n",
    "    #return (altura/3)*((f(a)+(4*f(c))+f(b)))\n",
    "    return (altura/3)*((f(a)+(4*f(c))+f(b)))"
   ]
  },
  {
   "cell_type": "code",
   "execution_count": 7,
   "metadata": {},
   "outputs": [
    {
     "name": "stdout",
     "output_type": "stream",
     "text": [
      "f(a):  1.5\n",
      "f(b):  5.5\n",
      "f(c):  14.0\n",
      "21.0\n"
     ]
    },
    {
     "data": {
      "text/plain": [
       "14.0"
      ]
     },
     "execution_count": 7,
     "metadata": {},
     "output_type": "execute_result"
    }
   ],
   "source": [
    "# teste\n",
    "#tabela = {0:1.5,1:2.5,2:3.5,3:4.5,4:5.5}\n",
    "# 1/3\n",
    "#table = {1:1.8816,2:1.5318,3:1.4452}\n",
    "# 3/8\n",
    "#table = {0:0,0.5:1,1:2,1.5:3,2:4}\n",
    "#simpson13(1,2,3,tabela)\n",
    "simpson13(0,2,4,f_tabela)"
   ]
  },
  {
   "cell_type": "markdown",
   "metadata": {},
   "source": [
    "# 1/3 Simpson composta (PROVA)"
   ]
  },
  {
   "cell_type": "code",
   "execution_count": 11,
   "metadata": {},
   "outputs": [],
   "source": [
    "def simpson38(x, altura=0, f=vazio):\n",
    "    tmp=0\n",
    "    tmp2=0\n",
    "    tmp4=0\n",
    "    for i in range(1,len(x)-1):\n",
    "        # Ímpar\n",
    "        if(i%2!=0):\n",
    "            tmp4 += f(x[i])\n",
    "    tmp4 = 4 * tmp4\n",
    "    for i in range(2,len(x)-2):\n",
    "        # Par\n",
    "        if(i%2==0):\n",
    "            tmp2 += f(x[i])\n",
    "    tmp2 = 2 * tmp2\n",
    "    tmp = f(x[0])+f(x[-1])+tmp4+tmp2\n",
    "    return (altura/3)*tmp"
   ]
  },
  {
   "cell_type": "code",
   "execution_count": 12,
   "metadata": {},
   "outputs": [
    {
     "data": {
      "text/plain": [
       "14.0"
      ]
     },
     "execution_count": 12,
     "metadata": {},
     "output_type": "execute_result"
    }
   ],
   "source": [
    "#simpson38([0,0.5,1,1.5,2], 0.5, f_tabela)\n",
    "simpson38([0,1,2,3,4], 1, f_tabela)"
   ]
  },
  {
   "cell_type": "code",
   "execution_count": null,
   "metadata": {},
   "outputs": [],
   "source": []
  }
 ],
 "metadata": {
  "kernelspec": {
   "display_name": "Python 3",
   "language": "python",
   "name": "python3"
  },
  "language_info": {
   "codemirror_mode": {
    "name": "ipython",
    "version": 3
   },
   "file_extension": ".py",
   "mimetype": "text/x-python",
   "name": "python",
   "nbconvert_exporter": "python",
   "pygments_lexer": "ipython3",
   "version": "3.7.1"
  }
 },
 "nbformat": 4,
 "nbformat_minor": 2
}
