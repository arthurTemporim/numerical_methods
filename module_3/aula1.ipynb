{
 "cells": [
  {
   "cell_type": "code",
   "execution_count": 1,
   "metadata": {},
   "outputs": [],
   "source": [
    "import numpy as np\n",
    "import math\n",
    "import matplotlib\n",
    "import pandas\n",
    "import scipy as sp"
   ]
  },
  {
   "cell_type": "code",
   "execution_count": 2,
   "metadata": {},
   "outputs": [],
   "source": [
    "def f_table(x):\n",
    "    table = {0:1.5,1:2.5,2:3.5,3:4.5,4:5.5}\n",
    "    #table = {1:1.8816,2:1.5318,3:1.4452}\n",
    "    #table = {0:0,0.5:1,1:2,1.5:3,2:4}\n",
    "    return table[x]"
   ]
  },
  {
   "cell_type": "markdown",
   "metadata": {},
   "source": [
    "# Integração Numérica"
   ]
  },
  {
   "cell_type": "code",
   "execution_count": 3,
   "metadata": {},
   "outputs": [],
   "source": [
    "def empty(value):\n",
    "    return value"
   ]
  },
  {
   "cell_type": "code",
   "execution_count": 4,
   "metadata": {},
   "outputs": [],
   "source": [
    "def trapezio2(x, f=empty):\n",
    "    altura=(x[-1]-x[0])/(len(x)-1)\n",
    "    tmp=0\n",
    "    for i in range(1,len(x)-1):\n",
    "        tmp += f(x[i])\n",
    "    tmp = 2 * tmp\n",
    "    tmp += f(x[0])\n",
    "    tmp += f(x[-1])\n",
    "    return (altura/2)*tmp"
   ]
  },
  {
   "cell_type": "code",
   "execution_count": 5,
   "metadata": {},
   "outputs": [
    {
     "data": {
      "text/plain": [
       "14.0"
      ]
     },
     "execution_count": 5,
     "metadata": {},
     "output_type": "execute_result"
    }
   ],
   "source": [
    "trapezio2([0,1,2,3,4],f_table)"
   ]
  },
  {
   "cell_type": "markdown",
   "metadata": {},
   "source": [
    "# 1/3 simpson"
   ]
  },
  {
   "cell_type": "code",
   "execution_count": 6,
   "metadata": {},
   "outputs": [],
   "source": [
    "def simpson13(a, c, b, altura, f=empty):\n",
    "    return (0.33*(f(a)+4*f(c)+f(b)))"
   ]
  },
  {
   "cell_type": "code",
   "execution_count": 7,
   "metadata": {},
   "outputs": [
    {
     "data": {
      "text/plain": [
       "6.930000000000001"
      ]
     },
     "execution_count": 7,
     "metadata": {},
     "output_type": "execute_result"
    }
   ],
   "source": [
    "#simpson13(1,2,3,1,f_table)\n",
    "simpson13(0,2,4,1,f_table)"
   ]
  },
  {
   "cell_type": "markdown",
   "metadata": {},
   "source": [
    "# 3/8 simpson"
   ]
  },
  {
   "cell_type": "code",
   "execution_count": 8,
   "metadata": {},
   "outputs": [],
   "source": [
    "def simpson38(x, altura=0, f=empty):\n",
    "    tmp=0\n",
    "    tmp2=0\n",
    "    tmp4=0\n",
    "    for i in range(1,len(x)-1):\n",
    "        if(i%2!=0):\n",
    "            tmp4 += f(x[i])\n",
    "    tmp4 = 4 * tmp4\n",
    "    for i in range(2,len(x)-2):\n",
    "        if(i%2==0):\n",
    "            tmp2 += f(x[i])\n",
    "    tmp2 = 2 * tmp2\n",
    "    tmp = f(x[0])+f(x[-1])+tmp4+tmp2\n",
    "    return (altura/3)*tmp"
   ]
  },
  {
   "cell_type": "code",
   "execution_count": 9,
   "metadata": {},
   "outputs": [
    {
     "data": {
      "text/plain": [
       "14.0"
      ]
     },
     "execution_count": 9,
     "metadata": {},
     "output_type": "execute_result"
    }
   ],
   "source": [
    "#simpson38([0,0.5,1,1.5,2], 0.5, f_table)\n",
    "simpson38([0,1,2,3,4], 1, f_table)"
   ]
  }
 ],
 "metadata": {
  "kernelspec": {
   "display_name": "Python 3",
   "language": "python",
   "name": "python3"
  },
  "language_info": {
   "codemirror_mode": {
    "name": "ipython",
    "version": 3
   },
   "file_extension": ".py",
   "mimetype": "text/x-python",
   "name": "python",
   "nbconvert_exporter": "python",
   "pygments_lexer": "ipython3",
   "version": "3.7.1"
  }
 },
 "nbformat": 4,
 "nbformat_minor": 2
}
