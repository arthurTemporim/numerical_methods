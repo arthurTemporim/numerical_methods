{
 "cells": [
  {
   "cell_type": "code",
   "execution_count": 1,
   "metadata": {},
   "outputs": [],
   "source": [
    "import numpy as np"
   ]
  },
  {
   "cell_type": "markdown",
   "metadata": {},
   "source": [
    "# Método de Euler"
   ]
  },
  {
   "cell_type": "code",
   "execution_count": 2,
   "metadata": {},
   "outputs": [],
   "source": [
    "def euler(h,N,t0,u0):\n",
    "    #cria vetor t e u  \n",
    "    t = np.empty(N)  \n",
    "    u = np.copy(t)  \n",
    " \n",
    "    #C.I.  \n",
    "    t[0] = t0 \n",
    "    u[0] = u0 \n",
    " \n",
    "    #iteracoes  \n",
    "    for i in np.arange(N-1):  \n",
    "        t[i+1] = t[i] + h  \n",
    "        u[i+1] = u[i] + h*f(t[i],u[i])  \n",
    " \n",
    "    #imprime  \n",
    "    for i,tt in enumerate(t):  \n",
    "        print(\"%1.1f %1.4f\" % (t[i],u[i])) "
   ]
  },
  {
   "cell_type": "code",
   "execution_count": 3,
   "metadata": {},
   "outputs": [
    {
     "name": "stdout",
     "output_type": "stream",
     "text": [
      "0.0 1.0000\n",
      "0.2 0.6000\n",
      "0.4 0.3600\n",
      "0.6 0.2160\n",
      "0.8 0.1296\n"
     ]
    }
   ],
   "source": [
    "def f(t,u):  \n",
    "    return -2*u \n",
    "\n",
    "euler(h=0.2, N=5,t0=0, u0=1)"
   ]
  },
  {
   "cell_type": "code",
   "execution_count": 4,
   "metadata": {},
   "outputs": [
    {
     "name": "stdout",
     "output_type": "stream",
     "text": [
      "1.0 3.0000\n",
      "1.1 3.5000\n",
      "1.2 4.0500\n",
      "1.3 4.6550\n",
      "1.4 5.3205\n",
      "1.5 6.0525\n"
     ]
    }
   ],
   "source": [
    "def f(t,u):  \n",
    "    return 2+u\n",
    "euler(0.1,6,1,3)"
   ]
  },
  {
   "cell_type": "code",
   "execution_count": 5,
   "metadata": {},
   "outputs": [
    {
     "name": "stdout",
     "output_type": "stream",
     "text": [
      "1.0 3.0000\n",
      "1.1 3.5000\n",
      "1.2 4.0500\n",
      "1.3 4.6550\n",
      "1.4 5.3205\n",
      "1.5 6.0525\n"
     ]
    }
   ],
   "source": [
    "def f(t,u):  \n",
    "    return 2+u\n",
    "euler(0.1,6,1,3)"
   ]
  },
  {
   "cell_type": "code",
   "execution_count": 6,
   "metadata": {},
   "outputs": [
    {
     "name": "stdout",
     "output_type": "stream",
     "text": [
      "1.0 3.0000\n",
      "1.5 7.0000\n",
      "2.0 18.1667\n"
     ]
    }
   ],
   "source": [
    "def f(t,u):  \n",
    "    return (2+2*(t**2)*u)/t\n",
    "euler(0.5,3,1,3)"
   ]
  },
  {
   "cell_type": "code",
   "execution_count": 7,
   "metadata": {},
   "outputs": [
    {
     "name": "stdout",
     "output_type": "stream",
     "text": [
      "1.0 3.0000\n",
      "1.2 2.2000\n",
      "1.4 1.9500\n",
      "1.6 1.8786\n",
      "1.8 1.8819\n",
      "2.0 1.9212\n"
     ]
    }
   ],
   "source": [
    "def f(t,u):  \n",
    "    return (-2*u+3*t-1)/(t**2)\n",
    "euler(0.2,6,1,3)"
   ]
  },
  {
   "cell_type": "code",
   "execution_count": 8,
   "metadata": {},
   "outputs": [
    {
     "name": "stdout",
     "output_type": "stream",
     "text": [
      "2.0 1.0000\n",
      "2.2 1.0000\n",
      "2.5 1.3125\n",
      "2.8 2.1719\n",
      "3.0 3.9883\n"
     ]
    }
   ],
   "source": [
    "def f(t,u):  \n",
    "    return (3*u+5*t-13)\n",
    "euler(0.25,5,2,1)"
   ]
  },
  {
   "cell_type": "code",
   "execution_count": null,
   "metadata": {},
   "outputs": [],
   "source": []
  }
 ],
 "metadata": {
  "kernelspec": {
   "display_name": "Python 3",
   "language": "python",
   "name": "python3"
  },
  "language_info": {
   "codemirror_mode": {
    "name": "ipython",
    "version": 3
   },
   "file_extension": ".py",
   "mimetype": "text/x-python",
   "name": "python",
   "nbconvert_exporter": "python",
   "pygments_lexer": "ipython3",
   "version": "3.7.1"
  }
 },
 "nbformat": 4,
 "nbformat_minor": 2
}
