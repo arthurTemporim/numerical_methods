{
 "cells": [
  {
   "cell_type": "markdown",
   "metadata": {},
   "source": [
    "# Test 4 pt2"
   ]
  },
  {
   "cell_type": "code",
   "execution_count": 10,
   "metadata": {},
   "outputs": [],
   "source": [
    "from math import sqrt"
   ]
  },
  {
   "cell_type": "code",
   "execution_count": 11,
   "metadata": {},
   "outputs": [],
   "source": [
    "def decimal(value, n=6):\n",
    "    tmp=\"0:.{}f\".format(n)\n",
    "    tmp = '{'+tmp+'}'\n",
    "    return float(tmp.format(value))"
   ]
  },
  {
   "cell_type": "markdown",
   "metadata": {},
   "source": [
    "## 2nd Order Runge-Kutta Method"
   ]
  },
  {
   "cell_type": "code",
   "execution_count": 12,
   "metadata": {},
   "outputs": [],
   "source": [
    "def rk2(f, x0, y0, h, n):\n",
    "    vx = [0] * (n + 1)\n",
    "    vy = [0] * (n + 1)\n",
    "    vx[0] = x = x0\n",
    "    vy[0] = y = y0\n",
    "    for i in range(1, n + 1):\n",
    "        k1 = decimal(f(x, y))\n",
    "        k2 = decimal(f(x + h, y + h * k1))\n",
    "        print('k1:',k1,'k2:',k2)\n",
    "        print('',y,'+',h/2,'*','(',k1,'+',k2,')',end='')\n",
    "        vx[i] = x = decimal(x0 + i * h)\n",
    "        vy[i] = y = decimal(y + h/2 * (k1 + k2))\n",
    "        print(' =',vy[i])\n",
    "    return vx, vy"
   ]
  },
  {
   "cell_type": "code",
   "execution_count": 14,
   "metadata": {},
   "outputs": [
    {
     "name": "stdout",
     "output_type": "stream",
     "text": [
      "k1: 1.0 k2: -0.56\n",
      " 1 + 0.1 * ( 1.0 + -0.56 ) = 1.044\n",
      "k1: -0.716 k2: -2.5392\n",
      " 1.044 + 0.1 * ( -0.716 + -2.5392 ) = 0.71848\n",
      "k1: -2.72152 k2: -4.865824\n",
      " 0.71848 + 0.1 * ( -2.72152 + -4.865824 ) = -0.040254\n",
      "k1: -5.080254 k2: -7.616305\n",
      " -0.040254 + 0.1 * ( -5.080254 + -7.616305 ) = -1.30991\n",
      "k1: -7.86991 k2: -10.883892\n",
      " -1.30991 + 0.1 * ( -7.86991 + -10.883892 ) = -3.18529\n",
      "0.00   1.000000\n",
      "0.20   1.044000\n",
      "0.40   0.718480\n",
      "0.60  -0.040254\n",
      "0.80  -1.309910\n",
      "1.00  -3.185290\n"
     ]
    }
   ],
   "source": [
    "def f(x, y):\n",
    "    return x**2-9*x+y\n",
    " \n",
    "vx, vy = rk2(f, 0, 1, 0.2, 5)\n",
    "for x, y in list(zip(vx, vy))[::1]:\n",
    "    print(\"%4.2f %10.6f\" % (x, y))"
   ]
  },
  {
   "cell_type": "code",
   "execution_count": null,
   "metadata": {},
   "outputs": [],
   "source": [
    "def f(x, y):\n",
    "    return x**2-9*x+y\n",
    " \n",
    "vx, vy = rk2(f, 0, 1, 0.2, 5)\n",
    "for x, y in list(zip(vx, vy))[::1]:\n",
    "    print(\"%4.2f %10.6f\" % (x, y))"
   ]
  }
 ],
 "metadata": {
  "kernelspec": {
   "display_name": "Python 3",
   "language": "python",
   "name": "python3"
  },
  "language_info": {
   "codemirror_mode": {
    "name": "ipython",
    "version": 3
   },
   "file_extension": ".py",
   "mimetype": "text/x-python",
   "name": "python",
   "nbconvert_exporter": "python",
   "pygments_lexer": "ipython3",
   "version": "3.6.6"
  }
 },
 "nbformat": 4,
 "nbformat_minor": 2
}
