{
 "cells": [
  {
   "cell_type": "code",
   "execution_count": 1,
   "metadata": {},
   "outputs": [],
   "source": [
    "# Python imports\n",
    "from math import sqrt\n",
    "import numpy as np\n",
    "import pandas as pd"
   ]
  },
  {
   "cell_type": "code",
   "execution_count": 2,
   "metadata": {},
   "outputs": [],
   "source": [
    "# My personal imports\n",
    "import sys\n",
    "sys.path.append('../')\n",
    "\n",
    "from utils import limit_decimal, array_to_dict, print_dict, print_array"
   ]
  },
  {
   "cell_type": "markdown",
   "metadata": {},
   "source": [
    "## 2nd Order Runge-Kutta Method"
   ]
  },
  {
   "cell_type": "code",
   "execution_count": 3,
   "metadata": {},
   "outputs": [],
   "source": [
    "def rk2(f, x0, y0, h, n):\n",
    "    vx = [0] * (n + 1)\n",
    "    vy = [0] * (n + 1)\n",
    "    vx[0] = x = x0\n",
    "    vy[0] = y = y0\n",
    "    k1 = [0]\n",
    "    k2 = [0]\n",
    "    \n",
    "    for i in range(1, n + 1):\n",
    "        k1.append(limit_decimal(f(x, y)))\n",
    "        k2.append(limit_decimal(f(x + h, y + h * k1[i])))\n",
    "        \n",
    "        #print('k1:',k1[i],'k2:',k2[i])\n",
    "        print('',y,'+',h/2,'*','(',k1[i],'+',k2[i],')',end='')\n",
    "    \n",
    "        vx[i] = x = limit_decimal(x0 + i * h)\n",
    "        vy[i] = y = limit_decimal(y + h/2 * (k1[i] + k2[i]))\n",
    "        \n",
    "        print(' =',vy[i])\n",
    "        \n",
    "    return vx, vy, k1, k2"
   ]
  },
  {
   "cell_type": "code",
   "execution_count": 4,
   "metadata": {},
   "outputs": [
    {
     "name": "stdout",
     "output_type": "stream",
     "text": [
      " 1 + 0.1 * ( -1.0 + 2.04 ) = 1.104\n",
      " 1.104 + 0.1 * ( 1.736 + 4.3088 ) = 1.70848\n",
      " 1.70848 + 0.1 * ( 4.05152 + 6.241216 ) = 2.7377536\n",
      " 2.7377536 + 0.1 * ( 6.0222464 + 7.8977971 ) = 4.129758\n",
      " 4.129758 + 0.1 * ( 7.710242 + 9.3281936 ) = 5.8336016\n"
     ]
    },
    {
     "data": {
      "text/html": [
       "<div>\n",
       "<style scoped>\n",
       "    .dataframe tbody tr th:only-of-type {\n",
       "        vertical-align: middle;\n",
       "    }\n",
       "\n",
       "    .dataframe tbody tr th {\n",
       "        vertical-align: top;\n",
       "    }\n",
       "\n",
       "    .dataframe thead th {\n",
       "        text-align: right;\n",
       "    }\n",
       "</style>\n",
       "<table border=\"1\" class=\"dataframe\">\n",
       "  <thead>\n",
       "    <tr style=\"text-align: right;\">\n",
       "      <th></th>\n",
       "      <th>0</th>\n",
       "      <th>1</th>\n",
       "      <th>2</th>\n",
       "    </tr>\n",
       "  </thead>\n",
       "  <tbody>\n",
       "    <tr>\n",
       "      <th>0.0</th>\n",
       "      <td>0.000000</td>\n",
       "      <td>0.000000</td>\n",
       "      <td>1.000000</td>\n",
       "    </tr>\n",
       "    <tr>\n",
       "      <th>0.2</th>\n",
       "      <td>-1.000000</td>\n",
       "      <td>2.040000</td>\n",
       "      <td>1.104000</td>\n",
       "    </tr>\n",
       "    <tr>\n",
       "      <th>0.4</th>\n",
       "      <td>1.736000</td>\n",
       "      <td>4.308800</td>\n",
       "      <td>1.708480</td>\n",
       "    </tr>\n",
       "    <tr>\n",
       "      <th>0.6</th>\n",
       "      <td>4.051520</td>\n",
       "      <td>6.241216</td>\n",
       "      <td>2.737754</td>\n",
       "    </tr>\n",
       "    <tr>\n",
       "      <th>0.8</th>\n",
       "      <td>6.022246</td>\n",
       "      <td>7.897797</td>\n",
       "      <td>4.129758</td>\n",
       "    </tr>\n",
       "    <tr>\n",
       "      <th>1.0</th>\n",
       "      <td>7.710242</td>\n",
       "      <td>9.328194</td>\n",
       "      <td>5.833602</td>\n",
       "    </tr>\n",
       "  </tbody>\n",
       "</table>\n",
       "</div>"
      ],
      "text/plain": [
       "            0         1         2\n",
       "0.0  0.000000  0.000000  1.000000\n",
       "0.2 -1.000000  2.040000  1.104000\n",
       "0.4  1.736000  4.308800  1.708480\n",
       "0.6  4.051520  6.241216  2.737754\n",
       "0.8  6.022246  7.897797  4.129758\n",
       "1.0  7.710242  9.328194  5.833602"
      ]
     },
     "execution_count": 4,
     "metadata": {},
     "output_type": "execute_result"
    }
   ],
   "source": [
    "# test 3\n",
    "def f(x, y):\n",
    "    return x**2+14*x-y\n",
    " \n",
    "vx, vy, k1, k2 = rk2(f, 0, 1, 0.2, 5)\n",
    "data = []\n",
    "for i in range(len(k1)):\n",
    "    data.append([k1[i], k2[i], vy[i]])\n",
    "print_array(data, vx)"
   ]
  },
  {
   "cell_type": "code",
   "execution_count": 5,
   "metadata": {},
   "outputs": [
    {
     "name": "stdout",
     "output_type": "stream",
     "text": [
      " 1 + 0.1 * ( 1.0 + 0.64 ) = 1.164\n",
      " 1.164 + 0.1 * ( 0.604 + 0.2448 ) = 1.24888\n",
      " 1.24888 + 0.1 * ( 0.20888 + -0.149344 ) = 1.2548336\n",
      " 1.2548336 + 0.1 * ( -0.1851664 + -0.5421997 ) = 1.182097\n",
      " 1.182097 + 0.1 * ( -0.577903 + -0.9334836 ) = 1.0309583\n"
     ]
    },
    {
     "data": {
      "text/html": [
       "<div>\n",
       "<style scoped>\n",
       "    .dataframe tbody tr th:only-of-type {\n",
       "        vertical-align: middle;\n",
       "    }\n",
       "\n",
       "    .dataframe tbody tr th {\n",
       "        vertical-align: top;\n",
       "    }\n",
       "\n",
       "    .dataframe thead th {\n",
       "        text-align: right;\n",
       "    }\n",
       "</style>\n",
       "<table border=\"1\" class=\"dataframe\">\n",
       "  <thead>\n",
       "    <tr style=\"text-align: right;\">\n",
       "      <th></th>\n",
       "      <th>0</th>\n",
       "      <th>1</th>\n",
       "      <th>2</th>\n",
       "    </tr>\n",
       "  </thead>\n",
       "  <tbody>\n",
       "    <tr>\n",
       "      <th>0.0</th>\n",
       "      <td>0.000000</td>\n",
       "      <td>0.000000</td>\n",
       "      <td>1.000000</td>\n",
       "    </tr>\n",
       "    <tr>\n",
       "      <th>0.2</th>\n",
       "      <td>1.000000</td>\n",
       "      <td>0.640000</td>\n",
       "      <td>1.164000</td>\n",
       "    </tr>\n",
       "    <tr>\n",
       "      <th>0.4</th>\n",
       "      <td>0.604000</td>\n",
       "      <td>0.244800</td>\n",
       "      <td>1.248880</td>\n",
       "    </tr>\n",
       "    <tr>\n",
       "      <th>0.6</th>\n",
       "      <td>0.208880</td>\n",
       "      <td>-0.149344</td>\n",
       "      <td>1.254834</td>\n",
       "    </tr>\n",
       "    <tr>\n",
       "      <th>0.8</th>\n",
       "      <td>-0.185166</td>\n",
       "      <td>-0.542200</td>\n",
       "      <td>1.182097</td>\n",
       "    </tr>\n",
       "    <tr>\n",
       "      <th>1.0</th>\n",
       "      <td>-0.577903</td>\n",
       "      <td>-0.933484</td>\n",
       "      <td>1.030958</td>\n",
       "    </tr>\n",
       "  </tbody>\n",
       "</table>\n",
       "</div>"
      ],
      "text/plain": [
       "            0         1         2\n",
       "0.0  0.000000  0.000000  1.000000\n",
       "0.2  1.000000  0.640000  1.164000\n",
       "0.4  0.604000  0.244800  1.248880\n",
       "0.6  0.208880 -0.149344  1.254834\n",
       "0.8 -0.185166 -0.542200  1.182097\n",
       "1.0 -0.577903 -0.933484  1.030958"
      ]
     },
     "execution_count": 5,
     "metadata": {},
     "output_type": "execute_result"
    }
   ],
   "source": [
    "# test 3\n",
    "def f(x, y):\n",
    "    return x**2-3*x+y\n",
    " \n",
    "vx, vy, k1, k2 = rk2(f, 0, 1, 0.2, 5)\n",
    "data = []\n",
    "for i in range(len(k1)):\n",
    "    data.append([k1[i], k2[i], vy[i]])\n",
    "print_array(data, vx)"
   ]
  },
  {
   "cell_type": "code",
   "execution_count": 6,
   "metadata": {},
   "outputs": [],
   "source": [
    "def trapezoidal(t):\n",
    "    # Get valuos of x\n",
    "    x = list(t.keys())\n",
    "    # Calculate h\n",
    "    h=limit_decimal((x[-1]-x[0])/(len(x)-1))\n",
    "    \n",
    "    tmp=0\n",
    "    for i in range(1,len(x)-1):\n",
    "        tmp += limit_decimal(t[x[i]])\n",
    "    tmp = 2 * limit_decimal(tmp)\n",
    "    tmp += limit_decimal(t[x[0]])\n",
    "    tmp += limit_decimal(t[x[-1]])\n",
    "    \n",
    "    print((h/2),'*','[',t[x[0]],'+', '2 *', [[t[x[i]]][0] for i in range(1,len(x)-1)],'+',t[x[-1]],']')\n",
    "    print((h/2),'*','[',t[x[0]],'+', tmp,'+',t[x[-1]],']')\n",
    "    \n",
    "    result = limit_decimal((h/2))*tmp\n",
    "    return limit_decimal(result)"
   ]
  },
  {
   "cell_type": "code",
   "execution_count": 7,
   "metadata": {},
   "outputs": [
    {
     "name": "stdout",
     "output_type": "stream",
     "text": [
      "0.125 * [ 1.0 + 2 * [2.2215254, 5.3987213, 10.5545] + 17.7182818 ]\n",
      "0.125 * [ 1.0 + 55.0677752 + 17.7182818 ]\n",
      "6.8834719\n"
     ]
    },
    {
     "data": {
      "text/html": [
       "<div>\n",
       "<style scoped>\n",
       "    .dataframe tbody tr th:only-of-type {\n",
       "        vertical-align: middle;\n",
       "    }\n",
       "\n",
       "    .dataframe tbody tr th {\n",
       "        vertical-align: top;\n",
       "    }\n",
       "\n",
       "    .dataframe thead th {\n",
       "        text-align: right;\n",
       "    }\n",
       "</style>\n",
       "<table border=\"1\" class=\"dataframe\">\n",
       "  <thead>\n",
       "    <tr style=\"text-align: right;\">\n",
       "      <th></th>\n",
       "      <th>0</th>\n",
       "      <th>1</th>\n",
       "      <th>2</th>\n",
       "      <th>3</th>\n",
       "      <th>4</th>\n",
       "    </tr>\n",
       "  </thead>\n",
       "  <tbody>\n",
       "    <tr>\n",
       "      <th>0</th>\n",
       "      <td>0.0</td>\n",
       "      <td>0.250000</td>\n",
       "      <td>0.500000</td>\n",
       "      <td>0.7500</td>\n",
       "      <td>1.000000</td>\n",
       "    </tr>\n",
       "    <tr>\n",
       "      <th>1</th>\n",
       "      <td>1.0</td>\n",
       "      <td>2.221525</td>\n",
       "      <td>5.398721</td>\n",
       "      <td>10.5545</td>\n",
       "      <td>17.718282</td>\n",
       "    </tr>\n",
       "  </tbody>\n",
       "</table>\n",
       "</div>"
      ],
      "text/plain": [
       "     0         1         2        3          4\n",
       "0  0.0  0.250000  0.500000   0.7500   1.000000\n",
       "1  1.0  2.221525  5.398721  10.5545  17.718282"
      ]
     },
     "execution_count": 7,
     "metadata": {},
     "output_type": "execute_result"
    }
   ],
   "source": [
    "# teste 1\n",
    "def f(x):\n",
    "    return np.exp(x) + 15 * x**2\n",
    "\n",
    "x = [0,0.25,0.5,0.75,1.0]\n",
    "t = array_to_dict(f,x,5)\n",
    "\n",
    "print(trapezoidal(t))\n",
    "print_dict(t)"
   ]
  },
  {
   "cell_type": "code",
   "execution_count": 8,
   "metadata": {},
   "outputs": [
    {
     "name": "stdout",
     "output_type": "stream",
     "text": [
      "0.125 * [ 13.0 + 2 * [13.0965254, 12.8987213, 12.4295] + 11.7182818 ]\n",
      "0.125 * [ 13.0 + 101.5677752 + 11.7182818 ]\n",
      "12.6959719\n"
     ]
    },
    {
     "data": {
      "text/html": [
       "<div>\n",
       "<style scoped>\n",
       "    .dataframe tbody tr th:only-of-type {\n",
       "        vertical-align: middle;\n",
       "    }\n",
       "\n",
       "    .dataframe tbody tr th {\n",
       "        vertical-align: top;\n",
       "    }\n",
       "\n",
       "    .dataframe thead th {\n",
       "        text-align: right;\n",
       "    }\n",
       "</style>\n",
       "<table border=\"1\" class=\"dataframe\">\n",
       "  <thead>\n",
       "    <tr style=\"text-align: right;\">\n",
       "      <th></th>\n",
       "      <th>0</th>\n",
       "      <th>1</th>\n",
       "      <th>2</th>\n",
       "      <th>3</th>\n",
       "      <th>4</th>\n",
       "    </tr>\n",
       "  </thead>\n",
       "  <tbody>\n",
       "    <tr>\n",
       "      <th>0</th>\n",
       "      <td>0.0</td>\n",
       "      <td>0.250000</td>\n",
       "      <td>0.500000</td>\n",
       "      <td>0.7500</td>\n",
       "      <td>1.000000</td>\n",
       "    </tr>\n",
       "    <tr>\n",
       "      <th>1</th>\n",
       "      <td>13.0</td>\n",
       "      <td>13.096525</td>\n",
       "      <td>12.898721</td>\n",
       "      <td>12.4295</td>\n",
       "      <td>11.718282</td>\n",
       "    </tr>\n",
       "  </tbody>\n",
       "</table>\n",
       "</div>"
      ],
      "text/plain": [
       "      0          1          2        3          4\n",
       "0   0.0   0.250000   0.500000   0.7500   1.000000\n",
       "1  13.0  13.096525  12.898721  12.4295  11.718282"
      ]
     },
     "execution_count": 8,
     "metadata": {},
     "output_type": "execute_result"
    }
   ],
   "source": [
    "# FINAL\n",
    "def f(x):\n",
    "    return np.exp(x) -3*x**2+12\n",
    "\n",
    "x = [0,0.25,0.5,0.75,1.0]\n",
    "t = array_to_dict(f,x,5)\n",
    "\n",
    "print(trapezoidal(t))\n",
    "print_dict(t)"
   ]
  },
  {
   "cell_type": "code",
   "execution_count": 9,
   "metadata": {},
   "outputs": [
    {
     "name": "stdout",
     "output_type": "stream",
     "text": [
      " 1 + 0.1 * ( 1.0 + -0.76 ) = 1.024\n",
      " 1.024 + 0.1 * ( -0.936 + -3.0032 ) = 0.63008\n",
      " 0.63008 + 0.1 * ( -3.20992 + -5.651904 ) = -0.2561024\n",
      " -0.2561024 + 0.1 * ( -5.8961024 + -8.7953229 ) = -1.7252449\n",
      " -1.7252449 + 0.1 * ( -9.0852449 + -12.5422939 ) = -3.8879988\n"
     ]
    },
    {
     "data": {
      "text/html": [
       "<div>\n",
       "<style scoped>\n",
       "    .dataframe tbody tr th:only-of-type {\n",
       "        vertical-align: middle;\n",
       "    }\n",
       "\n",
       "    .dataframe tbody tr th {\n",
       "        vertical-align: top;\n",
       "    }\n",
       "\n",
       "    .dataframe thead th {\n",
       "        text-align: right;\n",
       "    }\n",
       "</style>\n",
       "<table border=\"1\" class=\"dataframe\">\n",
       "  <thead>\n",
       "    <tr style=\"text-align: right;\">\n",
       "      <th></th>\n",
       "      <th>0</th>\n",
       "      <th>1</th>\n",
       "      <th>2</th>\n",
       "    </tr>\n",
       "  </thead>\n",
       "  <tbody>\n",
       "    <tr>\n",
       "      <th>0.0</th>\n",
       "      <td>0.000000</td>\n",
       "      <td>0.000000</td>\n",
       "      <td>1.000000</td>\n",
       "    </tr>\n",
       "    <tr>\n",
       "      <th>0.2</th>\n",
       "      <td>1.000000</td>\n",
       "      <td>-0.760000</td>\n",
       "      <td>1.024000</td>\n",
       "    </tr>\n",
       "    <tr>\n",
       "      <th>0.4</th>\n",
       "      <td>-0.936000</td>\n",
       "      <td>-3.003200</td>\n",
       "      <td>0.630080</td>\n",
       "    </tr>\n",
       "    <tr>\n",
       "      <th>0.6</th>\n",
       "      <td>-3.209920</td>\n",
       "      <td>-5.651904</td>\n",
       "      <td>-0.256102</td>\n",
       "    </tr>\n",
       "    <tr>\n",
       "      <th>0.8</th>\n",
       "      <td>-5.896102</td>\n",
       "      <td>-8.795323</td>\n",
       "      <td>-1.725245</td>\n",
       "    </tr>\n",
       "    <tr>\n",
       "      <th>1.0</th>\n",
       "      <td>-9.085245</td>\n",
       "      <td>-12.542294</td>\n",
       "      <td>-3.887999</td>\n",
       "    </tr>\n",
       "  </tbody>\n",
       "</table>\n",
       "</div>"
      ],
      "text/plain": [
       "            0          1         2\n",
       "0.0  0.000000   0.000000  1.000000\n",
       "0.2  1.000000  -0.760000  1.024000\n",
       "0.4 -0.936000  -3.003200  0.630080\n",
       "0.6 -3.209920  -5.651904 -0.256102\n",
       "0.8 -5.896102  -8.795323 -1.725245\n",
       "1.0 -9.085245 -12.542294 -3.887999"
      ]
     },
     "execution_count": 9,
     "metadata": {},
     "output_type": "execute_result"
    }
   ],
   "source": [
    "# FINAL\n",
    "def f(x, y):\n",
    "    return x**2-10*x+y\n",
    " \n",
    "vx, vy, k1, k2 = rk2(f, 0, 1, 0.2, 5)\n",
    "data = []\n",
    "for i in range(len(k1)):\n",
    "    data.append([k1[i], k2[i], vy[i]])\n",
    "print_array(data, vx)"
   ]
  },
  {
   "cell_type": "code",
   "execution_count": null,
   "metadata": {},
   "outputs": [],
   "source": []
  }
 ],
 "metadata": {
  "kernelspec": {
   "display_name": "Python 3",
   "language": "python",
   "name": "python3"
  },
  "language_info": {
   "codemirror_mode": {
    "name": "ipython",
    "version": 3
   },
   "file_extension": ".py",
   "mimetype": "text/x-python",
   "name": "python",
   "nbconvert_exporter": "python",
   "pygments_lexer": "ipython3",
   "version": "3.6.6"
  }
 },
 "nbformat": 4,
 "nbformat_minor": 2
}
