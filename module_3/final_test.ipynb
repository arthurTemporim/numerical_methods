{
 "cells": [
  {
   "cell_type": "code",
   "execution_count": 1,
   "metadata": {},
   "outputs": [],
   "source": [
    "# Python imports\n",
    "from math import sqrt\n",
    "import numpy as np\n",
    "import pandas as pd"
   ]
  },
  {
   "cell_type": "code",
   "execution_count": 2,
   "metadata": {},
   "outputs": [],
   "source": [
    "# My personal imports\n",
    "import sys\n",
    "sys.path.append('../')\n",
    "\n",
    "from utils import limit_decimal, array_to_dict, print_dict, print_array"
   ]
  },
  {
   "cell_type": "markdown",
   "metadata": {},
   "source": [
    "## 2nd Order Runge-Kutta Method"
   ]
  },
  {
   "cell_type": "code",
   "execution_count": 3,
   "metadata": {},
   "outputs": [],
   "source": [
    "def rk2(f, x0, y0, h, n):\n",
    "    vx = [0] * (n + 1)\n",
    "    vy = [0] * (n + 1)\n",
    "    vx[0] = x = x0\n",
    "    vy[0] = y = y0\n",
    "    k1 = [0]\n",
    "    k2 = [0]\n",
    "    \n",
    "    for i in range(1, n + 1):\n",
    "        k1.append(limit_decimal(f(x, y)))\n",
    "        k2.append(limit_decimal(f(x + h, y + h * k1[i])))\n",
    "        \n",
    "        #print('k1:',k1[i],'k2:',k2[i])\n",
    "        print('',y,'+',h/2,'*','(',k1[i],'+',k2[i],')',end='')\n",
    "    \n",
    "        vx[i] = x = limit_decimal(x0 + i * h)\n",
    "        vy[i] = y = limit_decimal(y + h/2 * (k1[i] + k2[i]))\n",
    "        \n",
    "        print(' =',vy[i])\n",
    "        \n",
    "    return vx, vy, k1, k2"
   ]
  },
  {
   "cell_type": "code",
   "execution_count": 4,
   "metadata": {},
   "outputs": [
    {
     "name": "stdout",
     "output_type": "stream",
     "text": [
      " 1 + 0.1 * ( -1.0 + 2.04 ) = 1.104\n",
      " 1.104 + 0.1 * ( 1.736 + 4.3088 ) = 1.70848\n",
      " 1.70848 + 0.1 * ( 4.05152 + 6.241216 ) = 2.7377536\n",
      " 2.7377536 + 0.1 * ( 6.0222464 + 7.8977971 ) = 4.129758\n",
      " 4.129758 + 0.1 * ( 7.710242 + 9.3281936 ) = 5.8336016\n"
     ]
    },
    {
     "data": {
      "text/html": [
       "<div>\n",
       "<style scoped>\n",
       "    .dataframe tbody tr th:only-of-type {\n",
       "        vertical-align: middle;\n",
       "    }\n",
       "\n",
       "    .dataframe tbody tr th {\n",
       "        vertical-align: top;\n",
       "    }\n",
       "\n",
       "    .dataframe thead th {\n",
       "        text-align: right;\n",
       "    }\n",
       "</style>\n",
       "<table border=\"1\" class=\"dataframe\">\n",
       "  <thead>\n",
       "    <tr style=\"text-align: right;\">\n",
       "      <th></th>\n",
       "      <th>0</th>\n",
       "      <th>1</th>\n",
       "      <th>2</th>\n",
       "    </tr>\n",
       "  </thead>\n",
       "  <tbody>\n",
       "    <tr>\n",
       "      <th>0.0</th>\n",
       "      <td>0.000000</td>\n",
       "      <td>0.000000</td>\n",
       "      <td>1.000000</td>\n",
       "    </tr>\n",
       "    <tr>\n",
       "      <th>0.2</th>\n",
       "      <td>-1.000000</td>\n",
       "      <td>2.040000</td>\n",
       "      <td>1.104000</td>\n",
       "    </tr>\n",
       "    <tr>\n",
       "      <th>0.4</th>\n",
       "      <td>1.736000</td>\n",
       "      <td>4.308800</td>\n",
       "      <td>1.708480</td>\n",
       "    </tr>\n",
       "    <tr>\n",
       "      <th>0.6</th>\n",
       "      <td>4.051520</td>\n",
       "      <td>6.241216</td>\n",
       "      <td>2.737754</td>\n",
       "    </tr>\n",
       "    <tr>\n",
       "      <th>0.8</th>\n",
       "      <td>6.022246</td>\n",
       "      <td>7.897797</td>\n",
       "      <td>4.129758</td>\n",
       "    </tr>\n",
       "    <tr>\n",
       "      <th>1.0</th>\n",
       "      <td>7.710242</td>\n",
       "      <td>9.328194</td>\n",
       "      <td>5.833602</td>\n",
       "    </tr>\n",
       "  </tbody>\n",
       "</table>\n",
       "</div>"
      ],
      "text/plain": [
       "            0         1         2\n",
       "0.0  0.000000  0.000000  1.000000\n",
       "0.2 -1.000000  2.040000  1.104000\n",
       "0.4  1.736000  4.308800  1.708480\n",
       "0.6  4.051520  6.241216  2.737754\n",
       "0.8  6.022246  7.897797  4.129758\n",
       "1.0  7.710242  9.328194  5.833602"
      ]
     },
     "execution_count": 4,
     "metadata": {},
     "output_type": "execute_result"
    }
   ],
   "source": [
    "# test 3\n",
    "def f(x, y):\n",
    "    return x**2+14*x-y\n",
    " \n",
    "vx, vy, k1, k2 = rk2(f, 0, 1, 0.2, 5)\n",
    "data = []\n",
    "for i in range(len(k1)):\n",
    "    data.append([k1[i], k2[i], vy[i]])\n",
    "print_array(data, vx)"
   ]
  },
  {
   "cell_type": "code",
   "execution_count": 5,
   "metadata": {},
   "outputs": [],
   "source": [
    "def trapezoidal(t):\n",
    "    # Get valuos of x\n",
    "    x = list(t.keys())\n",
    "    # Calculate h\n",
    "    h=limit_decimal((x[-1]-x[0])/(len(x)-1))\n",
    "    \n",
    "    tmp=0\n",
    "    for i in range(1,len(x)-1):\n",
    "        tmp += limit_decimal(t[x[i]])\n",
    "    tmp = 2 * limit_decimal(tmp)\n",
    "    tmp += limit_decimal(t[x[0]])\n",
    "    tmp += limit_decimal(t[x[-1]])\n",
    "    \n",
    "    print((h/2),'*','[',t[x[0]],'+', '2 *', [[t[x[i]]][0] for i in range(1,len(x)-1)],'+',t[x[-1]],']')\n",
    "    print((h/2),'*','[',t[x[0]],'+', tmp,'+',t[x[-1]],']')\n",
    "    \n",
    "    result = limit_decimal((h/2))*tmp\n",
    "    return limit_decimal(result)"
   ]
  },
  {
   "cell_type": "code",
   "execution_count": 6,
   "metadata": {},
   "outputs": [
    {
     "name": "stdout",
     "output_type": "stream",
     "text": [
      "0.125 * [ 1.0 + 2 * [2.2215254, 5.3987213, 10.5545] + 17.7182818 ]\n",
      "0.125 * [ 1.0 + 55.0677752 + 17.7182818 ]\n",
      "6.8834719\n"
     ]
    },
    {
     "data": {
      "text/html": [
       "<div>\n",
       "<style scoped>\n",
       "    .dataframe tbody tr th:only-of-type {\n",
       "        vertical-align: middle;\n",
       "    }\n",
       "\n",
       "    .dataframe tbody tr th {\n",
       "        vertical-align: top;\n",
       "    }\n",
       "\n",
       "    .dataframe thead th {\n",
       "        text-align: right;\n",
       "    }\n",
       "</style>\n",
       "<table border=\"1\" class=\"dataframe\">\n",
       "  <thead>\n",
       "    <tr style=\"text-align: right;\">\n",
       "      <th></th>\n",
       "      <th>0</th>\n",
       "      <th>1</th>\n",
       "      <th>2</th>\n",
       "      <th>3</th>\n",
       "      <th>4</th>\n",
       "    </tr>\n",
       "  </thead>\n",
       "  <tbody>\n",
       "    <tr>\n",
       "      <th>0</th>\n",
       "      <td>0.0</td>\n",
       "      <td>0.250000</td>\n",
       "      <td>0.500000</td>\n",
       "      <td>0.7500</td>\n",
       "      <td>1.000000</td>\n",
       "    </tr>\n",
       "    <tr>\n",
       "      <th>1</th>\n",
       "      <td>1.0</td>\n",
       "      <td>2.221525</td>\n",
       "      <td>5.398721</td>\n",
       "      <td>10.5545</td>\n",
       "      <td>17.718282</td>\n",
       "    </tr>\n",
       "  </tbody>\n",
       "</table>\n",
       "</div>"
      ],
      "text/plain": [
       "     0         1         2        3          4\n",
       "0  0.0  0.250000  0.500000   0.7500   1.000000\n",
       "1  1.0  2.221525  5.398721  10.5545  17.718282"
      ]
     },
     "execution_count": 6,
     "metadata": {},
     "output_type": "execute_result"
    }
   ],
   "source": [
    "# teste 1\n",
    "def f(x):\n",
    "    return np.exp(x) + 15 * x**2\n",
    "\n",
    "x = [0,0.25,0.5,0.75,1.0]\n",
    "t = array_to_dict(f,x,5)\n",
    "\n",
    "print(trapezoidal(t))\n",
    "print_dict(t)"
   ]
  },
  {
   "cell_type": "code",
   "execution_count": null,
   "metadata": {},
   "outputs": [],
   "source": []
  }
 ],
 "metadata": {
  "kernelspec": {
   "display_name": "Python 3",
   "language": "python",
   "name": "python3"
  },
  "language_info": {
   "codemirror_mode": {
    "name": "ipython",
    "version": 3
   },
   "file_extension": ".py",
   "mimetype": "text/x-python",
   "name": "python",
   "nbconvert_exporter": "python",
   "pygments_lexer": "ipython3",
   "version": "3.6.6"
  }
 },
 "nbformat": 4,
 "nbformat_minor": 2
}
