{
 "cells": [
  {
   "cell_type": "code",
   "execution_count": 1,
   "metadata": {},
   "outputs": [],
   "source": [
    "import numpy as np\n",
    "import math\n",
    "import matplotlib\n",
    "import pandas\n",
    "import scipy as sp"
   ]
  },
  {
   "cell_type": "markdown",
   "metadata": {},
   "source": [
    "# Numeric Integration"
   ]
  },
  {
   "cell_type": "markdown",
   "metadata": {},
   "source": [
    "# trapezoidal rule"
   ]
  },
  {
   "cell_type": "code",
   "execution_count": 2,
   "metadata": {},
   "outputs": [],
   "source": [
    "def trapezoidal(t):\n",
    "    # Pega valores de x\n",
    "    x = list(t.keys())\n",
    "    # Descobre h\n",
    "    h=(x[-1]-x[0])/(len(x)-1)\n",
    "    tmp=0\n",
    "    for i in range(1,len(x)-1):\n",
    "        tmp += t[x[i]]\n",
    "    tmp = 2 * tmp\n",
    "    tmp += t[x[0]]\n",
    "    tmp += t[x[-1]]\n",
    "    resultado = (h/2)*tmp\n",
    "    print((h/2),'*','[',t[x[0]],'+',tmp,'+',t[x[-1]],']')\n",
    "    return resultado"
   ]
  },
  {
   "cell_type": "code",
   "execution_count": 3,
   "metadata": {
    "scrolled": true
   },
   "outputs": [
    {
     "name": "stdout",
     "output_type": "stream",
     "text": [
      "0.5 * [ 1.5 + 28.0 + 5.5 ]\n"
     ]
    },
    {
     "data": {
      "text/plain": [
       "14.0"
      ]
     },
     "execution_count": 3,
     "metadata": {},
     "output_type": "execute_result"
    }
   ],
   "source": [
    "# teste\n",
    "t = {0:1.5,1:2.5,2:3.5,3:4.5,4:5.5}\n",
    "# Regra dos trapézios\n",
    "#t = {1:1.8816,1.5:1.5401,2:1.5318,2.5:1.9996,3:1.4452}\n",
    "trapezoidal(t)"
   ]
  },
  {
   "cell_type": "markdown",
   "metadata": {},
   "source": [
    "# 1/3 Simpson simple"
   ]
  },
  {
   "cell_type": "code",
   "execution_count": 8,
   "metadata": {},
   "outputs": [],
   "source": [
    "def simpson13s(a, c, b, t=None):\n",
    "    altura = (b-a)/2\n",
    "    print((altura/3),'*','[',t[a],'+',t[b]*4,'+',t[c],']')\n",
    "    return (altura/3)*((t[a]+(4*t[c])+t[b]))\n",
    "    pass"
   ]
  },
  {
   "cell_type": "code",
   "execution_count": 9,
   "metadata": {},
   "outputs": [
    {
     "name": "stdout",
     "output_type": "stream",
     "text": [
      "0.6666666666666666 * [ 1.5 + 22.0 + 3.5 ]\n"
     ]
    },
    {
     "data": {
      "text/plain": [
       "14.0"
      ]
     },
     "execution_count": 9,
     "metadata": {},
     "output_type": "execute_result"
    }
   ],
   "source": [
    "# test\n",
    "t = {0:1.5,1:2.5,2:3.5,3:4.5,4:5.5}\n",
    "# 1/3 simple\n",
    "#t = {1:1.8816,2:1.5318,3:1.4452}\n",
    "# 1/3 composed\n",
    "#t = {0:1,0.5:2,1:3,1.5:4,2:5}\n",
    "#simpson13s(0,1,2,t)\n",
    "simpson13s(0,2,4,t)"
   ]
  },
  {
   "cell_type": "markdown",
   "metadata": {},
   "source": [
    "# 1/3 Simpson composed (TEST)"
   ]
  },
  {
   "cell_type": "code",
   "execution_count": 6,
   "metadata": {},
   "outputs": [],
   "source": [
    "def simpson13c(t=None):\n",
    "    # Get x values\n",
    "    x = list(t.keys())\n",
    "    # Distance betwen the point 0 and 1\n",
    "    altura = abs(x[0]-x[1])\n",
    "    tmp=0\n",
    "    fxn2=0\n",
    "    fxn4=0\n",
    "    for i in range(1,len(x)-1):\n",
    "        # Odd\n",
    "        if(i%2!=0):\n",
    "            fxn4 += t[x[i]]\n",
    "    fxn4 = 4 * fxn4\n",
    "    for i in range(2,len(x)-2):\n",
    "        # Even\n",
    "        if(i%2==0):\n",
    "            fxn2 += t[x[i]]\n",
    "    fxn2 = 2 * fxn2\n",
    "    tmp = t[x[0]]+t[x[-1]]+fxn4+fxn2\n",
    "    print((altura/3),'*','[',t[x[0]]+t[x[-1]],'+',fxn4,'+',fxn2,']')\n",
    "    return (altura/3)*tmp"
   ]
  },
  {
   "cell_type": "code",
   "execution_count": 7,
   "metadata": {},
   "outputs": [
    {
     "name": "stdout",
     "output_type": "stream",
     "text": [
      "0.3333333333333333 * [ 7.0 + 28.0 + 7.0 ]\n"
     ]
    },
    {
     "data": {
      "text/plain": [
       "14.0"
      ]
     },
     "execution_count": 7,
     "metadata": {},
     "output_type": "execute_result"
    }
   ],
   "source": [
    "# test\n",
    "t = {0:1.5,1:2.5,2:3.5,3:4.5,4:5.5}\n",
    "# 1/3 simple\n",
    "#t = {1:1.8816,2:1.5318,3:1.4452}\n",
    "# 1/3 compose\n",
    "#t = {0:1,0.5:2,1:3,1.5:4,2:5}\n",
    "simpson13c(t)"
   ]
  }
 ],
 "metadata": {
  "kernelspec": {
   "display_name": "Python 3",
   "language": "python",
   "name": "python3"
  },
  "language_info": {
   "codemirror_mode": {
    "name": "ipython",
    "version": 3
   },
   "file_extension": ".py",
   "mimetype": "text/x-python",
   "name": "python",
   "nbconvert_exporter": "python",
   "pygments_lexer": "ipython3",
   "version": "3.7.1"
  }
 },
 "nbformat": 4,
 "nbformat_minor": 2
}
