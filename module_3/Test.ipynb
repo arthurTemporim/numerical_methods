{
 "cells": [
  {
   "cell_type": "markdown",
   "metadata": {},
   "source": [
    "# Test 4"
   ]
  },
  {
   "cell_type": "code",
   "execution_count": 2,
   "metadata": {},
   "outputs": [],
   "source": [
    "import numpy as np\n",
    "import math\n",
    "import matplotlib\n",
    "import pandas\n",
    "import scipy as sp\n",
    "from math import sqrt"
   ]
  },
  {
   "cell_type": "code",
   "execution_count": 5,
   "metadata": {},
   "outputs": [],
   "source": [
    "def decimal(value, n=6):\n",
    "    tmp=\"0:.{}f\".format(n)\n",
    "    tmp = '{'+tmp+'}'\n",
    "    return float(tmp.format(value))"
   ]
  },
  {
   "cell_type": "markdown",
   "metadata": {},
   "source": [
    "## Numeric Integration"
   ]
  },
  {
   "cell_type": "markdown",
   "metadata": {},
   "source": [
    "### Trapezoidal rule"
   ]
  },
  {
   "cell_type": "code",
   "execution_count": 3,
   "metadata": {},
   "outputs": [],
   "source": [
    "def calc(f,x,n):\n",
    "    t={}\n",
    "    r=[]\n",
    "    for i in range(0,n):        \n",
    "        r.append(f(x[i]))\n",
    "        r[i] = float(\"{0:.7f}\".format(r[i]))\n",
    "        t[x[i]]=r[i]\n",
    "    return t"
   ]
  },
  {
   "cell_type": "code",
   "execution_count": 4,
   "metadata": {},
   "outputs": [],
   "source": [
    "def trapezoidal(t):\n",
    "    # Pega valores de x\n",
    "    x = list(t.keys())\n",
    "    # Descobre h\n",
    "    h=(x[-1]-x[0])/(len(x)-1)\n",
    "    tmp=0\n",
    "    for i in range(1,len(x)-1):\n",
    "        tmp += t[x[i]]\n",
    "    tmp = 2 * tmp\n",
    "    tmp += t[x[0]]\n",
    "    tmp += t[x[-1]]\n",
    "    resultado = (h/2)*tmp\n",
    "    print((h/2),'*','[',t[x[0]],'+',tmp,'+',t[x[-1]],']')\n",
    "    return resultado"
   ]
  },
  {
   "cell_type": "code",
   "execution_count": 5,
   "metadata": {},
   "outputs": [
    {
     "name": "stdout",
     "output_type": "stream",
     "text": [
      "0.1 * [ 1.0 + 42.2400562 + 7.7182818 ]\n"
     ]
    },
    {
     "data": {
      "text/plain": [
       "4.22400562"
      ]
     },
     "execution_count": 5,
     "metadata": {},
     "output_type": "execute_result"
    }
   ],
   "source": [
    "# teste 1\n",
    "def f(x):\n",
    "    return np.exp(x) + 5 * x\n",
    "x = [0,0.2,0.4,0.6,0.8,1.0]\n",
    "t = calc(f,x,6)\n",
    "trapezoidal(t)"
   ]
  },
  {
   "cell_type": "code",
   "execution_count": 6,
   "metadata": {},
   "outputs": [
    {
     "name": "stdout",
     "output_type": "stream",
     "text": [
      "0.1 * [ 1.0 + -2.7599438000000003 + -1.2817182 ]\n"
     ]
    },
    {
     "data": {
      "text/plain": [
       "-0.27599438000000004"
      ]
     },
     "execution_count": 6,
     "metadata": {},
     "output_type": "execute_result"
    }
   ],
   "source": [
    "# teste 2\n",
    "def f(x):\n",
    "    return np.exp(x) - 4*x\n",
    "x = [0,0.2,0.4,0.6,0.8,1.0]\n",
    "t = calc(f,x,6)\n",
    "trapezoidal(t)"
   ]
  },
  {
   "cell_type": "markdown",
   "metadata": {},
   "source": [
    "### 1/3 Simpson simple"
   ]
  },
  {
   "cell_type": "code",
   "execution_count": 7,
   "metadata": {},
   "outputs": [],
   "source": [
    "def simpson13s(a, c, b, t=None):\n",
    "    altura = (b-a)/2\n",
    "    print(a,b,c)\n",
    "    print(altura)\n",
    "    h = float(\"{0:.7f}\".format(altura/3))\n",
    "    print(h,'*','[',t[a],'+',t[b]*4,'+',t[c],']')\n",
    "    return h*((t[a]+(4*t[c])+t[b]))\n",
    "    pass"
   ]
  },
  {
   "cell_type": "code",
   "execution_count": 8,
   "metadata": {},
   "outputs": [
    {
     "name": "stdout",
     "output_type": "stream",
     "text": [
      "{0: 1.0, 0.5: 4.1487213, 1.0: 7.7182818}\n",
      "0 1 0.5\n",
      "0.5\n",
      "0.1666667 * [ 1.0 + 30.8731272 + 4.1487213 ]\n"
     ]
    },
    {
     "data": {
      "text/plain": [
       "4.2188620104389"
      ]
     },
     "execution_count": 8,
     "metadata": {},
     "output_type": "execute_result"
    }
   ],
   "source": [
    "# test 1\n",
    "def f(x):\n",
    "    return np.exp(x) + 5 * x\n",
    "x = [0,0.5,1.0]\n",
    "t = calc(f,x,len(x))\n",
    "print(t)\n",
    "simpson13s(0,0.5,1,t)"
   ]
  },
  {
   "cell_type": "code",
   "execution_count": 9,
   "metadata": {},
   "outputs": [
    {
     "name": "stdout",
     "output_type": "stream",
     "text": [
      "0.25 * [ 1.0 + -0.9842756 + -1.2817182 ]\n"
     ]
    },
    {
     "data": {
      "text/plain": [
       "-0.2460689"
      ]
     },
     "execution_count": 9,
     "metadata": {},
     "output_type": "execute_result"
    }
   ],
   "source": [
    "# teste 2\n",
    "def f(x):\n",
    "    return np.exp(x) - 4*x\n",
    "x = [0,0.5,1.0]\n",
    "t = calc(f,x,len(x))\n",
    "trapezoidal(t)"
   ]
  },
  {
   "cell_type": "markdown",
   "metadata": {},
   "source": [
    "## 2nd Order Runge-Kutta Method"
   ]
  },
  {
   "cell_type": "code",
   "execution_count": 11,
   "metadata": {},
   "outputs": [],
   "source": [
    "def rk2(f, x0, y0, h, n):\n",
    "    vx = [0] * (n + 1)\n",
    "    vy = [0] * (n + 1)\n",
    "    vx[0] = x = x0\n",
    "    vy[0] = y = y0\n",
    "    for i in range(1, n + 1):\n",
    "        k1 = decimal(f(x, y))\n",
    "        k2 = decimal(f(x + h, y + h * k1))\n",
    "        print('k1:',k1,'k2:',k2)\n",
    "        print('',y,'+',h/2,'*','(',k1,'+',k2,')',end='')\n",
    "        vx[i] = x = decimal(x0 + i * h)\n",
    "        vy[i] = y = decimal(y + h/2 * (k1 + k2))\n",
    "        print(' =',vy[i])\n",
    "    return vx, vy"
   ]
  },
  {
   "cell_type": "code",
   "execution_count": 12,
   "metadata": {},
   "outputs": [
    {
     "name": "stdout",
     "output_type": "stream",
     "text": [
      "k1: 1.0 k2: 0.64\n",
      " 1 + 0.1 * ( 1.0 + 0.64 ) = 1.164\n",
      "k1: 0.604 k2: 0.2448\n",
      " 1.164 + 0.1 * ( 0.604 + 0.2448 ) = 1.24888\n",
      "k1: 0.20888 k2: -0.149344\n",
      " 1.24888 + 0.1 * ( 0.20888 + -0.149344 ) = 1.254834\n",
      "k1: -0.185166 k2: -0.542199\n",
      " 1.254834 + 0.1 * ( -0.185166 + -0.542199 ) = 1.182098\n",
      "k1: -0.577902 k2: -0.933482\n",
      " 1.182098 + 0.1 * ( -0.577902 + -0.933482 ) = 1.03096\n",
      "0.00   1.000000\n",
      "0.20   1.164000\n",
      "0.40   1.248880\n",
      "0.60   1.254834\n",
      "0.80   1.182098\n",
      "1.00   1.030960\n"
     ]
    }
   ],
   "source": [
    "# test 1\n",
    "def f(x, y):\n",
    "    return x**2-3*x+y\n",
    " \n",
    "vx, vy = rk2(f, 0, 1, 0.2, 5)\n",
    "for x, y in list(zip(vx, vy))[::1]:\n",
    "    print(\"%4.2f %10.6f\" % (x, y,))"
   ]
  },
  {
   "cell_type": "code",
   "execution_count": 13,
   "metadata": {},
   "outputs": [
    {
     "name": "stdout",
     "output_type": "stream",
     "text": [
      "k1: 1.0 k2: 0.24\n",
      " 1 + 0.1 * ( 1.0 + 0.24 ) = 1.124\n",
      "k1: 0.164 k2: -0.6832\n",
      " 1.124 + 0.1 * ( 0.164 + -0.6832 ) = 1.07208\n",
      "k1: -0.76792 k2: -1.721504\n",
      " 1.07208 + 0.1 * ( -0.76792 + -1.721504 ) = 0.823138\n",
      "k1: -1.816862 k2: -2.900234\n",
      " 0.823138 + 0.1 * ( -1.816862 + -2.900234 ) = 0.351428\n",
      "k1: -3.008572 k2: -4.250286\n",
      " 0.351428 + 0.1 * ( -3.008572 + -4.250286 ) = -0.374458\n",
      "0.00    1.00000\n",
      "0.20    1.12400\n",
      "0.40    1.07208\n",
      "0.60    0.82314\n",
      "0.80    0.35143\n",
      "1.00   -0.37446\n"
     ]
    }
   ],
   "source": [
    "# test 2\n",
    "def f(x, y):\n",
    "    return x**2-5*x+y\n",
    " \n",
    "vx, vy = rk2(f, 0, 1, 0.2, 5)\n",
    "for x, y in list(zip(vx, vy))[::1]:\n",
    "    print(\"%4.2f %10.5f\" % (x, y))"
   ]
  }
 ],
 "metadata": {
  "kernelspec": {
   "display_name": "Python 3",
   "language": "python",
   "name": "python3"
  },
  "language_info": {
   "codemirror_mode": {
    "name": "ipython",
    "version": 3
   },
   "file_extension": ".py",
   "mimetype": "text/x-python",
   "name": "python",
   "nbconvert_exporter": "python",
   "pygments_lexer": "ipython3",
   "version": "3.6.6"
  }
 },
 "nbformat": 4,
 "nbformat_minor": 2
}
