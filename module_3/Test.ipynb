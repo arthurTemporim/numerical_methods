{
 "cells": [
  {
   "cell_type": "markdown",
   "metadata": {},
   "source": [
    "# Test 4"
   ]
  },
  {
   "cell_type": "code",
   "execution_count": 2,
   "metadata": {},
   "outputs": [],
   "source": [
    "import numpy as np\n",
    "import math\n",
    "import matplotlib\n",
    "import pandas\n",
    "import scipy as sp\n",
    "from math import sqrt"
   ]
  },
  {
   "cell_type": "markdown",
   "metadata": {},
   "source": [
    "## Numeric Integration"
   ]
  },
  {
   "cell_type": "markdown",
   "metadata": {},
   "source": [
    "### Trapezoidal rule"
   ]
  },
  {
   "cell_type": "code",
   "execution_count": 3,
   "metadata": {},
   "outputs": [],
   "source": [
    "def calc(f,x,n):\n",
    "    t={}\n",
    "    r=[]\n",
    "    for i in range(0,n):        \n",
    "        r.append(f(x[i]))\n",
    "        r[i] = float(\"{0:.7f}\".format(r[i]))\n",
    "        t[x[i]]=r[i]\n",
    "    return t"
   ]
  },
  {
   "cell_type": "code",
   "execution_count": 4,
   "metadata": {},
   "outputs": [],
   "source": [
    "def trapezoidal(t):\n",
    "    # Pega valores de x\n",
    "    x = list(t.keys())\n",
    "    # Descobre h\n",
    "    h=(x[-1]-x[0])/(len(x)-1)\n",
    "    tmp=0\n",
    "    for i in range(1,len(x)-1):\n",
    "        tmp += t[x[i]]\n",
    "    tmp = 2 * tmp\n",
    "    tmp += t[x[0]]\n",
    "    tmp += t[x[-1]]\n",
    "    resultado = (h/2)*tmp\n",
    "    print((h/2),'*','[',t[x[0]],'+',tmp,'+',t[x[-1]],']')\n",
    "    return resultado"
   ]
  },
  {
   "cell_type": "code",
   "execution_count": 5,
   "metadata": {},
   "outputs": [
    {
     "name": "stdout",
     "output_type": "stream",
     "text": [
      "0.1 * [ 1.0 + 42.2400562 + 7.7182818 ]\n"
     ]
    },
    {
     "data": {
      "text/plain": [
       "4.22400562"
      ]
     },
     "execution_count": 5,
     "metadata": {},
     "output_type": "execute_result"
    }
   ],
   "source": [
    "# teste 1\n",
    "def f(x):\n",
    "    return np.exp(x) + 5 * x\n",
    "x = [0,0.2,0.4,0.6,0.8,1.0]\n",
    "t = calc(f,x,6)\n",
    "trapezoidal(t)"
   ]
  },
  {
   "cell_type": "code",
   "execution_count": 6,
   "metadata": {},
   "outputs": [
    {
     "name": "stdout",
     "output_type": "stream",
     "text": [
      "0.1 * [ 1.0 + -2.7599438000000003 + -1.2817182 ]\n"
     ]
    },
    {
     "data": {
      "text/plain": [
       "-0.27599438000000004"
      ]
     },
     "execution_count": 6,
     "metadata": {},
     "output_type": "execute_result"
    }
   ],
   "source": [
    "# teste 2\n",
    "def f(x):\n",
    "    return np.exp(x) - 4*x\n",
    "x = [0,0.2,0.4,0.6,0.8,1.0]\n",
    "t = calc(f,x,6)\n",
    "trapezoidal(t)"
   ]
  },
  {
   "cell_type": "markdown",
   "metadata": {},
   "source": [
    "### 1/3 Simpson simple"
   ]
  },
  {
   "cell_type": "code",
   "execution_count": 7,
   "metadata": {},
   "outputs": [],
   "source": [
    "def simpson13s(a, c, b, t=None):\n",
    "    altura = (b-a)/2\n",
    "    print(a,b,c)\n",
    "    print(altura)\n",
    "    h = float(\"{0:.7f}\".format(altura/3))\n",
    "    print(h,'*','[',t[a],'+',t[b]*4,'+',t[c],']')\n",
    "    return h*((t[a]+(4*t[c])+t[b]))\n",
    "    pass"
   ]
  },
  {
   "cell_type": "code",
   "execution_count": 8,
   "metadata": {},
   "outputs": [
    {
     "name": "stdout",
     "output_type": "stream",
     "text": [
      "{0: 1.0, 0.5: 4.1487213, 1.0: 7.7182818}\n",
      "0 1 0.5\n",
      "0.5\n",
      "0.1666667 * [ 1.0 + 30.8731272 + 4.1487213 ]\n"
     ]
    },
    {
     "data": {
      "text/plain": [
       "4.2188620104389"
      ]
     },
     "execution_count": 8,
     "metadata": {},
     "output_type": "execute_result"
    }
   ],
   "source": [
    "# test 1\n",
    "def f(x):\n",
    "    return np.exp(x) + 5 * x\n",
    "x = [0,0.5,1.0]\n",
    "t = calc(f,x,len(x))\n",
    "print(t)\n",
    "simpson13s(0,0.5,1,t)"
   ]
  },
  {
   "cell_type": "code",
   "execution_count": 9,
   "metadata": {},
   "outputs": [
    {
     "name": "stdout",
     "output_type": "stream",
     "text": [
      "0.25 * [ 1.0 + -0.9842756 + -1.2817182 ]\n"
     ]
    },
    {
     "data": {
      "text/plain": [
       "-0.2460689"
      ]
     },
     "execution_count": 9,
     "metadata": {},
     "output_type": "execute_result"
    }
   ],
   "source": [
    "# teste 2\n",
    "def f(x):\n",
    "    return np.exp(x) - 4*x\n",
    "x = [0,0.5,1.0]\n",
    "t = calc(f,x,len(x))\n",
    "trapezoidal(t)"
   ]
  },
  {
   "cell_type": "markdown",
   "metadata": {},
   "source": [
    "## 2nd Order Runge-Kutta Method"
   ]
  },
  {
   "cell_type": "code",
   "execution_count": 10,
   "metadata": {},
   "outputs": [],
   "source": [
    "\n",
    "def derivative(func, x0, dx=1.0, n=1, args=(), order=3):\n",
    "    \"\"\"\n",
    "    Find the n-th derivative of a function at a point.\n",
    "    Given a function, use a central difference formula with spacing `dx` to\n",
    "    compute the `n`-th derivative at `x0`.\n",
    "    Parameters\n",
    "    ----------\n",
    "    func : function\n",
    "        Input function.\n",
    "    x0 : float\n",
    "        The point at which `n`-th derivative is found.\n",
    "    dx : int, optional\n",
    "        Spacing.\n",
    "    n : int, optional\n",
    "        Order of the derivative. Default is 1.\n",
    "    args : tuple, optional\n",
    "        Arguments\n",
    "    order : int, optional\n",
    "        Number of points to use, must be odd.\n",
    "    Notes\n",
    "    -----\n",
    "    Decreasing the step size too small can result in round-off error.\n",
    "    Examples\n",
    "    --------\n",
    "    >>> def f(x):\n",
    "    ...     return x**3 + x**2\n",
    "    ...\n",
    "    >>> derivative(f, 1.0, dx=1e-6)\n",
    "    4.9999999999217337\n",
    "    \"\"\"\n",
    "    if order < n + 1:\n",
    "        raise ValueError(\"'order' (the number of points used to compute the derivative), \"\n",
    "                         \"must be at least the derivative order 'n' + 1.\")\n",
    "    if order % 2 == 0:\n",
    "        raise ValueError(\"'order' (the number of points used to compute the derivative) \"\n",
    "                         \"must be odd.\")\n",
    "    # pre-computed for n=1 and 2 and low-order for speed.\n",
    "    if n == 1:\n",
    "        if order == 3:\n",
    "            weights = np.array([-1,0,1])/2.0\n",
    "        elif order == 5:\n",
    "            weights = np.array([1,-8,0,8,-1])/12.0\n",
    "        elif order == 7:\n",
    "            weights = np.array([-1,9,-45,0,45,-9,1])/60.0\n",
    "        elif order == 9:\n",
    "            weights = np.array([3,-32,168,-672,0,672,-168,32,-3])/840.0\n",
    "        else:\n",
    "            weights = central_diff_weights(order,1)\n",
    "    elif n == 2:\n",
    "        if order == 3:\n",
    "            weights = np.array([1,-2.0,1])\n",
    "        elif order == 5:\n",
    "            weights = np.array([-1,16,-30,16,-1])/12.0\n",
    "        elif order == 7:\n",
    "            weights = np.array([2,-27,270,-490,270,-27,2])/180.0\n",
    "        elif order == 9:\n",
    "            weights = np.array([-9,128,-1008,8064,-14350,8064,-1008,128,-9])/5040.0\n",
    "        else:\n",
    "            weights = central_diff_weights(order,2)\n",
    "    else:\n",
    "        weights = central_diff_weights(order, n)\n",
    "    val = 0.0\n",
    "    ho = order >> 1\n",
    "    for k in range(order):\n",
    "        val += weights[k]*func(x0+(k-ho)*dx,*args)\n",
    "    return val / np.product((dx,)*n,axis=0)"
   ]
  },
  {
   "cell_type": "code",
   "execution_count": 11,
   "metadata": {},
   "outputs": [
    {
     "data": {
      "text/plain": [
       "-0.9999999996956888"
      ]
     },
     "execution_count": 11,
     "metadata": {},
     "output_type": "execute_result"
    }
   ],
   "source": [
    "def f(x):\n",
    "    return x**3 + x**2\n",
    "def f(x=0, y=0):\n",
    "    return x**2-3*x+y\n",
    "derivative(f, 1.0, dx=1e-6)"
   ]
  },
  {
   "cell_type": "code",
   "execution_count": 12,
   "metadata": {},
   "outputs": [
    {
     "name": "stdout",
     "output_type": "stream",
     "text": [
      "K: 1 : []\n",
      "K: 2 : []\n",
      "K: 3 : []\n",
      "K: 4 : []\n",
      "K: 5 : []\n",
      "0.00    1.00000      +0.0000\n",
      "0.20    1.18100      +0.1609\n",
      "0.40    1.28641      +0.2048\n",
      "0.60    1.31716      +0.1291\n",
      "0.80    1.27436      -0.0712\n",
      "1.00    1.15937      -0.4031\n"
     ]
    }
   ],
   "source": [
    "def ck(f, x, y, i):\n",
    "    print(\"K:\",i,\":\",np.diff(f(x,y)))\n",
    "    \n",
    "def rk2(f, x0, y0, h, n):\n",
    "    vx = [0] * (n + 1)\n",
    "    vy = [0] * (n + 1)\n",
    "    vx[0] = x = x0\n",
    "    vy[0] = y = y0\n",
    "    for i in range(1, n + 1):\n",
    "        ck(f,x,y,i)\n",
    "        k1 = h * f(x, y)[0]\n",
    "        k2 = h * f(x + 0.5 * h, y + 0.5 * k1)[0]\n",
    "        vx[i] = x = x0 + i * h\n",
    "        vy[i] = y = y + (k1 + k2) / 2\n",
    "    return vx, vy\n",
    "\n",
    "def f(x, y):\n",
    "    return [x**2-3*x+y]\n",
    " \n",
    "vx, vy = rk2(f, 0, 1, 0.2, 5)\n",
    "for x, y in list(zip(vx, vy))[::1]:\n",
    "    print(\"%4.2f %10.5f %+12.4f\" % (x, y, y - (4 + x * x)**2 / 16))"
   ]
  },
  {
   "cell_type": "code",
   "execution_count": 13,
   "metadata": {},
   "outputs": [],
   "source": [
    "def rk2(f, x0, y0, h, n):\n",
    "    vx = [0] * (n + 1)\n",
    "    vy = [0] * (n + 1)\n",
    "    vx[0] = x = x0\n",
    "    vy[0] = y = y0\n",
    "    for i in range(1, n + 1):\n",
    "        k1 = h * f(x, y)\n",
    "        k2 = h * f(x + 0.5 * h, y + 0.5 * k1)\n",
    "        vx[i] = x = x0 + i * h\n",
    "        vy[i] = y = y + (k1 + k2) / 2\n",
    "    return vx, vy\n"
   ]
  },
  {
   "cell_type": "code",
   "execution_count": 14,
   "metadata": {},
   "outputs": [
    {
     "name": "stdout",
     "output_type": "stream",
     "text": [
      "0.00   1.000000    +0.000000\n",
      "0.20   1.181000    +0.160900\n",
      "0.40   1.286410    +0.204810\n",
      "0.60   1.317156    +0.129056\n",
      "0.80   1.274359    -0.071241\n",
      "1.00   1.159374    -0.403126\n"
     ]
    }
   ],
   "source": [
    "# test 1\n",
    "def f(x, y):\n",
    "    return x**2-3*x+y\n",
    " \n",
    "vx, vy = rk2(f, 0, 1, 0.2, 5)\n",
    "for x, y in list(zip(vx, vy))[::1]:\n",
    "    print(\"%4.2f %10.6f %+12.6f\" % (x, y, y - (4 + x * x)**2 / 16))"
   ]
  },
  {
   "cell_type": "code",
   "execution_count": 15,
   "metadata": {},
   "outputs": [
    {
     "name": "stdout",
     "output_type": "stream",
     "text": [
      "0.00    1.00000      +0.0000\n",
      "0.20    1.16100      +0.1409\n",
      "0.40    1.15821      +0.0766\n",
      "0.60    0.97403      -0.2141\n",
      "0.80    0.58718      -0.7584\n",
      "1.00   -0.02811      -1.5906\n"
     ]
    }
   ],
   "source": [
    "# test 2\n",
    "def f(x, y):\n",
    "    return x**2-5*x+y\n",
    " \n",
    "vx, vy = rk2(f, 0, 1, 0.2, 5)\n",
    "for x, y in list(zip(vx, vy))[::1]:\n",
    "    print(\"%4.2f %10.5f %+12.4f\" % (x, y, y - (4 + x * x)**2 / 16))"
   ]
  }
 ],
 "metadata": {
  "kernelspec": {
   "display_name": "Python 3",
   "language": "python",
   "name": "python3"
  },
  "language_info": {
   "codemirror_mode": {
    "name": "ipython",
    "version": 3
   },
   "file_extension": ".py",
   "mimetype": "text/x-python",
   "name": "python",
   "nbconvert_exporter": "python",
   "pygments_lexer": "ipython3",
   "version": "3.6.6"
  }
 },
 "nbformat": 4,
 "nbformat_minor": 2
}
