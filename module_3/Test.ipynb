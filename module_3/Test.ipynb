{
 "cells": [
  {
   "cell_type": "markdown",
   "metadata": {},
   "source": [
    "# Test 4"
   ]
  },
  {
   "cell_type": "code",
   "execution_count": 1,
   "metadata": {},
   "outputs": [],
   "source": [
    "import numpy as np\n",
    "import math\n",
    "import matplotlib\n",
    "import pandas\n",
    "import scipy as sp\n",
    "from math import sqrt"
   ]
  },
  {
   "cell_type": "markdown",
   "metadata": {},
   "source": [
    "## Numeric Integration"
   ]
  },
  {
   "cell_type": "markdown",
   "metadata": {},
   "source": [
    "### Trapezoidal rule"
   ]
  },
  {
   "cell_type": "code",
   "execution_count": 2,
   "metadata": {},
   "outputs": [],
   "source": [
    "def trapezoidal(t):\n",
    "    # Pega valores de x\n",
    "    x = list(t.keys())\n",
    "    # Descobre h\n",
    "    h=(x[-1]-x[0])/(len(x)-1)\n",
    "    tmp=0\n",
    "    for i in range(1,len(x)-1):\n",
    "        tmp += t[x[i]]\n",
    "    tmp = 2 * tmp\n",
    "    tmp += t[x[0]]\n",
    "    tmp += t[x[-1]]\n",
    "    resultado = (h/2)*tmp\n",
    "    print((h/2),'*','[',t[x[0]],'+',tmp,'+',t[x[-1]],']')\n",
    "    return resultado"
   ]
  },
  {
   "cell_type": "code",
   "execution_count": 3,
   "metadata": {},
   "outputs": [
    {
     "name": "stdout",
     "output_type": "stream",
     "text": [
      "0.5 * [ 1.5 + 28.0 + 5.5 ]\n"
     ]
    },
    {
     "data": {
      "text/plain": [
       "14.0"
      ]
     },
     "execution_count": 3,
     "metadata": {},
     "output_type": "execute_result"
    }
   ],
   "source": [
    "# teste\n",
    "t = {0:1.5,1:2.5,2:3.5,3:4.5,4:5.5}\n",
    "trapezoidal(t)"
   ]
  },
  {
   "cell_type": "markdown",
   "metadata": {},
   "source": [
    "### 1/3 Simpson simple"
   ]
  },
  {
   "cell_type": "code",
   "execution_count": 4,
   "metadata": {},
   "outputs": [],
   "source": [
    "def simpson13s(a, c, b, t=None):\n",
    "    altura = (b-a)/2\n",
    "    print((altura/3),'*','[',t[a],'+',t[b]*4,'+',t[c],']')\n",
    "    return (altura/3)*((t[a]+(4*t[c])+t[b]))\n",
    "    pass"
   ]
  },
  {
   "cell_type": "code",
   "execution_count": 5,
   "metadata": {},
   "outputs": [
    {
     "name": "stdout",
     "output_type": "stream",
     "text": [
      "0.6666666666666666 * [ 1.5 + 22.0 + 3.5 ]\n"
     ]
    },
    {
     "data": {
      "text/plain": [
       "14.0"
      ]
     },
     "execution_count": 5,
     "metadata": {},
     "output_type": "execute_result"
    }
   ],
   "source": [
    "# test\n",
    "t = {0:1.5,1:2.5,2:3.5,3:4.5,4:5.5}\n",
    "simpson13s(0,2,4,t)"
   ]
  },
  {
   "cell_type": "markdown",
   "metadata": {},
   "source": [
    "### 1/3 Simpson composed"
   ]
  },
  {
   "cell_type": "code",
   "execution_count": 6,
   "metadata": {},
   "outputs": [],
   "source": [
    "def simpson13c(t=None):\n",
    "    # Get x values\n",
    "    x = list(t.keys())\n",
    "    # Distance betwen the point 0 and 1\n",
    "    altura = abs(x[0]-x[1])\n",
    "    tmp=0\n",
    "    fxn2=0\n",
    "    fxn4=0\n",
    "    for i in range(1,len(x)-1):\n",
    "        # Odd\n",
    "        if(i%2!=0):\n",
    "            fxn4 += t[x[i]]\n",
    "    fxn4 = 4 * fxn4\n",
    "    for i in range(2,len(x)-2):\n",
    "        # Even\n",
    "        if(i%2==0):\n",
    "            fxn2 += t[x[i]]\n",
    "    fxn2 = 2 * fxn2\n",
    "    tmp = t[x[0]]+t[x[-1]]+fxn4+fxn2\n",
    "    print((altura/3),'*','[',t[x[0]]+t[x[-1]],'+',fxn4,'+',fxn2,']')\n",
    "    return (altura/3)*tmp"
   ]
  },
  {
   "cell_type": "code",
   "execution_count": 7,
   "metadata": {},
   "outputs": [
    {
     "name": "stdout",
     "output_type": "stream",
     "text": [
      "0.3333333333333333 * [ 7.0 + 28.0 + 7.0 ]\n"
     ]
    },
    {
     "data": {
      "text/plain": [
       "14.0"
      ]
     },
     "execution_count": 7,
     "metadata": {},
     "output_type": "execute_result"
    }
   ],
   "source": [
    "# test\n",
    "t = {0:1.5,1:2.5,2:3.5,3:4.5,4:5.5}\n",
    "simpson13c(t)"
   ]
  },
  {
   "cell_type": "markdown",
   "metadata": {},
   "source": [
    "## Euler Method"
   ]
  },
  {
   "cell_type": "code",
   "execution_count": 8,
   "metadata": {},
   "outputs": [],
   "source": [
    "def euler(h,N,t0,u0):\n",
    "    #cria vetor t e u  \n",
    "    t = np.empty(N)  \n",
    "    u = np.copy(t)  \n",
    " \n",
    "    #C.I.  \n",
    "    t[0] = t0 \n",
    "    u[0] = u0 \n",
    " \n",
    "    #iteracoes  \n",
    "    for i in np.arange(N-1):  \n",
    "        t[i+1] = t[i] + h  \n",
    "        u[i+1] = u[i] + h*f(t[i],u[i])  \n",
    " \n",
    "    #imprime  \n",
    "    for i,tt in enumerate(t):  \n",
    "        print(\"%1.1f %1.4f\" % (t[i],u[i])) "
   ]
  },
  {
   "cell_type": "code",
   "execution_count": 9,
   "metadata": {},
   "outputs": [
    {
     "name": "stdout",
     "output_type": "stream",
     "text": [
      "0.0 1.0000\n",
      "0.2 0.6000\n",
      "0.4 0.3600\n",
      "0.6 0.2160\n",
      "0.8 0.1296\n"
     ]
    }
   ],
   "source": [
    "def f(t,u):  \n",
    "    return -2*u \n",
    "\n",
    "euler(h=0.2, N=5,t0=0, u0=1)"
   ]
  },
  {
   "cell_type": "markdown",
   "metadata": {},
   "source": [
    "## 2nd Order Runge-Kutta Method"
   ]
  },
  {
   "cell_type": "code",
   "execution_count": 125,
   "metadata": {},
   "outputs": [
    {
     "name": "stdout",
     "output_type": "stream",
     "text": [
      "K: 1 : []\n",
      "K: 2 : []\n",
      "K: 3 : []\n",
      "K: 4 : []\n",
      "0.00    1.00000      +0.0000\n",
      "0.25    1.50000      +0.4685\n",
      "0.50    2.00000      +0.8711\n",
      "0.75    2.50000      +1.1990\n",
      "1.00    3.00000      +1.4375\n"
     ]
    }
   ],
   "source": [
    "def ck(f, x, y, i):\n",
    "    print(\"K:\",i,\":\",np.diff(f(x,y)))\n",
    "    \n",
    "def rk2(f, x0, y0, h, n):\n",
    "    vx = [0] * (n + 1)\n",
    "    vy = [0] * (n + 1)\n",
    "    vx[0] = x = x0\n",
    "    vy[0] = y = y0\n",
    "    for i in range(1, n + 1):\n",
    "        ck(f,x,y,i)\n",
    "        k1 = h * f(x, y)[0]\n",
    "        k2 = h * f(x + 0.5 * h, y + 0.5 * k1)[0]\n",
    "        vx[i] = x = x0 + i * h\n",
    "        vy[i] = y = y + (k1 + k2) / 2\n",
    "    return vx, vy\n",
    "\n",
    "def f(x, y):\n",
    "    return [2*x-y+3]\n",
    " \n",
    "vx, vy = rk2(f, 0, 1, 0.25, 4)\n",
    "for x, y in list(zip(vx, vy))[::1]:\n",
    "    print(\"%4.2f %10.5f %+12.4f\" % (x, y, y - (4 + x * x)**2 / 16))"
   ]
  },
  {
   "cell_type": "code",
   "execution_count": 123,
   "metadata": {},
   "outputs": [],
   "source": [
    "def rk2(f, x0, y0, h, n):\n",
    "    vx = [0] * (n + 1)\n",
    "    vy = [0] * (n + 1)\n",
    "    vx[0] = x = x0\n",
    "    vy[0] = y = y0\n",
    "    for i in range(1, n + 1):\n",
    "        k1 = h * f(x, y)\n",
    "        k2 = h * f(x + 0.5 * h, y + 0.5 * k1)\n",
    "        vx[i] = x = x0 + i * h\n",
    "        vy[i] = y = y + (k1 + k2) / 2\n",
    "    return vx, vy\n"
   ]
  },
  {
   "cell_type": "code",
   "execution_count": 124,
   "metadata": {},
   "outputs": [
    {
     "name": "stdout",
     "output_type": "stream",
     "text": [
      "0.00    1.00000      +0.0000\n",
      "0.25    1.50000      +0.4685\n",
      "0.50    2.00000      +0.8711\n",
      "0.75    2.50000      +1.1990\n",
      "1.00    3.00000      +1.4375\n"
     ]
    }
   ],
   "source": [
    "def f(x, y):\n",
    "    return 2*x-y+3\n",
    " \n",
    "vx, vy = rk2(f, 0, 1, 0.25, 4)\n",
    "for x, y in list(zip(vx, vy))[::1]:\n",
    "    print(\"%4.2f %10.5f %+12.4f\" % (x, y, y - (4 + x * x)**2 / 16))"
   ]
  },
  {
   "cell_type": "code",
   "execution_count": null,
   "metadata": {},
   "outputs": [],
   "source": []
  }
 ],
 "metadata": {
  "kernelspec": {
   "display_name": "Python 3",
   "language": "python",
   "name": "python3"
  },
  "language_info": {
   "codemirror_mode": {
    "name": "ipython",
    "version": 3
   },
   "file_extension": ".py",
   "mimetype": "text/x-python",
   "name": "python",
   "nbconvert_exporter": "python",
   "pygments_lexer": "ipython3",
   "version": "3.7.1"
  }
 },
 "nbformat": 4,
 "nbformat_minor": 2
}
